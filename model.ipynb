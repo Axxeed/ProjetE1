{
 "cells": [
  {
   "cell_type": "code",
   "execution_count": 1,
   "metadata": {},
   "outputs": [],
   "source": [
    "import pandas as pd\n",
    "import requests\n",
    "from xgboost import XGBRegressor\n",
    "import os\n",
    "from dotenv import load_dotenv\n",
    "load_dotenv()\n",
    "from supabase import create_client, Client\n",
    "from sklearn.metrics import r2_score\n",
    "import numpy as np\n",
    "import matplotlib.pyplot as plt"
   ]
  },
  {
   "cell_type": "code",
   "execution_count": 2,
   "metadata": {},
   "outputs": [],
   "source": [
    "url = os.environ.get(\"SUPABASE_URL\")\n",
    "key = os.environ.get(\"SUPABASE_KEY\")\n",
    "\n",
    "supabase = create_client(url, key)"
   ]
  },
  {
   "cell_type": "code",
   "execution_count": 3,
   "metadata": {},
   "outputs": [
    {
     "name": "stderr",
     "output_type": "stream",
     "text": [
      "2024-04-08 10:02:35,124:INFO - HTTP Request: GET https://qsfxncgsycgttcgjhckl.supabase.co/rest/v1/bien?select=%2A \"HTTP/1.1 200 OK\"\n",
      "2024-04-08 10:02:37,598:INFO - HTTP Request: GET https://qsfxncgsycgttcgjhckl.supabase.co/rest/v1/vente?select=%2A \"HTTP/1.1 200 OK\"\n",
      "2024-04-08 10:02:38,520:INFO - HTTP Request: GET https://qsfxncgsycgttcgjhckl.supabase.co/rest/v1/commune?select=%2A \"HTTP/1.1 200 OK\"\n",
      "2024-04-08 10:02:38,648:INFO - HTTP Request: GET https://qsfxncgsycgttcgjhckl.supabase.co/rest/v1/region?select=%2A \"HTTP/1.1 200 OK\"\n"
     ]
    }
   ],
   "source": [
    "bien = supabase.table(\"bien\").select(\"*\").execute()\n",
    "vente = supabase.table(\"vente\").select(\"*\").execute()\n",
    "commune = supabase.table(\"commune\").select(\"*\").execute()\n",
    "region = supabase.table(\"region\").select(\"*\").execute()"
   ]
  },
  {
   "cell_type": "code",
   "execution_count": 4,
   "metadata": {},
   "outputs": [
    {
     "data": {
      "text/html": [
       "<div>\n",
       "<style scoped>\n",
       "    .dataframe tbody tr th:only-of-type {\n",
       "        vertical-align: middle;\n",
       "    }\n",
       "\n",
       "    .dataframe tbody tr th {\n",
       "        vertical-align: top;\n",
       "    }\n",
       "\n",
       "    .dataframe thead th {\n",
       "        text-align: right;\n",
       "    }\n",
       "</style>\n",
       "<table border=\"1\" class=\"dataframe\">\n",
       "  <thead>\n",
       "    <tr style=\"text-align: right;\">\n",
       "      <th></th>\n",
       "      <th>index</th>\n",
       "      <th>No voie</th>\n",
       "      <th>Type de voie</th>\n",
       "      <th>Voie</th>\n",
       "      <th>Code postal</th>\n",
       "      <th>Commune</th>\n",
       "      <th>Code departement</th>\n",
       "      <th>Code commune</th>\n",
       "      <th>Surface Carrez du 1er lot</th>\n",
       "      <th>Type local</th>\n",
       "      <th>Nombre pieces principales</th>\n",
       "      <th>id_bien</th>\n",
       "      <th>id_codedep_codecommune</th>\n",
       "    </tr>\n",
       "  </thead>\n",
       "  <tbody>\n",
       "    <tr>\n",
       "      <th>0</th>\n",
       "      <td>0</td>\n",
       "      <td>6.0</td>\n",
       "      <td>AV</td>\n",
       "      <td>DU CHAMP DE FOIRE</td>\n",
       "      <td>1000</td>\n",
       "      <td>BOURG-EN-BRESSE</td>\n",
       "      <td>01</td>\n",
       "      <td>53</td>\n",
       "      <td>31.68</td>\n",
       "      <td>Appartement</td>\n",
       "      <td>1</td>\n",
       "      <td>1</td>\n",
       "      <td>01_53</td>\n",
       "    </tr>\n",
       "    <tr>\n",
       "      <th>1</th>\n",
       "      <td>1</td>\n",
       "      <td>16.0</td>\n",
       "      <td>RUE</td>\n",
       "      <td>DES GRAVES</td>\n",
       "      <td>1000</td>\n",
       "      <td>BOURG-EN-BRESSE</td>\n",
       "      <td>01</td>\n",
       "      <td>53</td>\n",
       "      <td>78.03</td>\n",
       "      <td>Appartement</td>\n",
       "      <td>3</td>\n",
       "      <td>2</td>\n",
       "      <td>01_53</td>\n",
       "    </tr>\n",
       "    <tr>\n",
       "      <th>2</th>\n",
       "      <td>2</td>\n",
       "      <td>12.0</td>\n",
       "      <td>ALL</td>\n",
       "      <td>DE LA PETITE REYSSOUZE</td>\n",
       "      <td>1000</td>\n",
       "      <td>BOURG-EN-BRESSE</td>\n",
       "      <td>01</td>\n",
       "      <td>53</td>\n",
       "      <td>74.07</td>\n",
       "      <td>Appartement</td>\n",
       "      <td>3</td>\n",
       "      <td>3</td>\n",
       "      <td>01_53</td>\n",
       "    </tr>\n",
       "    <tr>\n",
       "      <th>3</th>\n",
       "      <td>3</td>\n",
       "      <td>18.0</td>\n",
       "      <td>RUE</td>\n",
       "      <td>DES GRAVES</td>\n",
       "      <td>1000</td>\n",
       "      <td>BOURG-EN-BRESSE</td>\n",
       "      <td>01</td>\n",
       "      <td>53</td>\n",
       "      <td>91.47</td>\n",
       "      <td>Appartement</td>\n",
       "      <td>4</td>\n",
       "      <td>4</td>\n",
       "      <td>01_53</td>\n",
       "    </tr>\n",
       "    <tr>\n",
       "      <th>4</th>\n",
       "      <td>4</td>\n",
       "      <td>5.0</td>\n",
       "      <td>RUE</td>\n",
       "      <td>EDGAR  QUINET</td>\n",
       "      <td>1000</td>\n",
       "      <td>BOURG-EN-BRESSE</td>\n",
       "      <td>01</td>\n",
       "      <td>53</td>\n",
       "      <td>48.48</td>\n",
       "      <td>Appartement</td>\n",
       "      <td>2</td>\n",
       "      <td>5</td>\n",
       "      <td>01_53</td>\n",
       "    </tr>\n",
       "  </tbody>\n",
       "</table>\n",
       "</div>"
      ],
      "text/plain": [
       "  index No voie Type de voie                    Voie  Code postal  \\\n",
       "0     0     6.0           AV       DU CHAMP DE FOIRE         1000   \n",
       "1     1    16.0          RUE              DES GRAVES         1000   \n",
       "2     2    12.0          ALL  DE LA PETITE REYSSOUZE         1000   \n",
       "3     3    18.0          RUE              DES GRAVES         1000   \n",
       "4     4     5.0          RUE           EDGAR  QUINET         1000   \n",
       "\n",
       "           Commune Code departement  Code commune  Surface Carrez du 1er lot  \\\n",
       "0  BOURG-EN-BRESSE               01            53                      31.68   \n",
       "1  BOURG-EN-BRESSE               01            53                      78.03   \n",
       "2  BOURG-EN-BRESSE               01            53                      74.07   \n",
       "3  BOURG-EN-BRESSE               01            53                      91.47   \n",
       "4  BOURG-EN-BRESSE               01            53                      48.48   \n",
       "\n",
       "    Type local  Nombre pieces principales  id_bien id_codedep_codecommune  \n",
       "0  Appartement                          1        1                  01_53  \n",
       "1  Appartement                          3        2                  01_53  \n",
       "2  Appartement                          3        3                  01_53  \n",
       "3  Appartement                          4        4                  01_53  \n",
       "4  Appartement                          2        5                  01_53  "
      ]
     },
     "execution_count": 4,
     "metadata": {},
     "output_type": "execute_result"
    }
   ],
   "source": [
    "bien_df = pd.DataFrame(bien)\n",
    "bien_df = bien_df[1].iloc[0]\n",
    "bien_df = pd.DataFrame(bien_df)\n",
    "bien_df.head()"
   ]
  },
  {
   "cell_type": "code",
   "execution_count": 5,
   "metadata": {},
   "outputs": [
    {
     "data": {
      "text/html": [
       "<div>\n",
       "<style scoped>\n",
       "    .dataframe tbody tr th:only-of-type {\n",
       "        vertical-align: middle;\n",
       "    }\n",
       "\n",
       "    .dataframe tbody tr th {\n",
       "        vertical-align: top;\n",
       "    }\n",
       "\n",
       "    .dataframe thead th {\n",
       "        text-align: right;\n",
       "    }\n",
       "</style>\n",
       "<table border=\"1\" class=\"dataframe\">\n",
       "  <thead>\n",
       "    <tr style=\"text-align: right;\">\n",
       "      <th></th>\n",
       "      <th>Code postal</th>\n",
       "      <th>Commune</th>\n",
       "      <th>Code commune</th>\n",
       "      <th>Code departement</th>\n",
       "      <th>id_codedep_codecommune</th>\n",
       "      <th>region_code</th>\n",
       "    </tr>\n",
       "  </thead>\n",
       "  <tbody>\n",
       "    <tr>\n",
       "      <th>0</th>\n",
       "      <td>1000</td>\n",
       "      <td>BOURG-EN-BRESSE</td>\n",
       "      <td>53</td>\n",
       "      <td>01</td>\n",
       "      <td>01_53</td>\n",
       "      <td>84</td>\n",
       "    </tr>\n",
       "    <tr>\n",
       "      <th>1</th>\n",
       "      <td>1960</td>\n",
       "      <td>PERONNAS</td>\n",
       "      <td>289</td>\n",
       "      <td>01</td>\n",
       "      <td>None</td>\n",
       "      <td>84</td>\n",
       "    </tr>\n",
       "    <tr>\n",
       "      <th>2</th>\n",
       "      <td>1270</td>\n",
       "      <td>VILLEMOTIER</td>\n",
       "      <td>445</td>\n",
       "      <td>01</td>\n",
       "      <td>01_53</td>\n",
       "      <td>84</td>\n",
       "    </tr>\n",
       "    <tr>\n",
       "      <th>3</th>\n",
       "      <td>1290</td>\n",
       "      <td>PONT-DE-VEYLE</td>\n",
       "      <td>306</td>\n",
       "      <td>01</td>\n",
       "      <td>01_445</td>\n",
       "      <td>84</td>\n",
       "    </tr>\n",
       "    <tr>\n",
       "      <th>4</th>\n",
       "      <td>1370</td>\n",
       "      <td>SAINT-ETIENNE-DU-BOIS</td>\n",
       "      <td>350</td>\n",
       "      <td>01</td>\n",
       "      <td>01_53</td>\n",
       "      <td>84</td>\n",
       "    </tr>\n",
       "  </tbody>\n",
       "</table>\n",
       "</div>"
      ],
      "text/plain": [
       "   Code postal                Commune  Code commune Code departement  \\\n",
       "0         1000        BOURG-EN-BRESSE            53               01   \n",
       "1         1960               PERONNAS           289               01   \n",
       "2         1270            VILLEMOTIER           445               01   \n",
       "3         1290          PONT-DE-VEYLE           306               01   \n",
       "4         1370  SAINT-ETIENNE-DU-BOIS           350               01   \n",
       "\n",
       "  id_codedep_codecommune  region_code  \n",
       "0                  01_53           84  \n",
       "1                   None           84  \n",
       "2                  01_53           84  \n",
       "3                 01_445           84  \n",
       "4                  01_53           84  "
      ]
     },
     "execution_count": 5,
     "metadata": {},
     "output_type": "execute_result"
    }
   ],
   "source": [
    "commune_df = pd.DataFrame(commune)\n",
    "commune_df = commune_df[1].iloc[0]\n",
    "commune_df = pd.DataFrame(commune_df)\n",
    "commune_df.head()"
   ]
  },
  {
   "cell_type": "code",
   "execution_count": 6,
   "metadata": {},
   "outputs": [
    {
     "data": {
      "text/html": [
       "<div>\n",
       "<style scoped>\n",
       "    .dataframe tbody tr th:only-of-type {\n",
       "        vertical-align: middle;\n",
       "    }\n",
       "\n",
       "    .dataframe tbody tr th {\n",
       "        vertical-align: top;\n",
       "    }\n",
       "\n",
       "    .dataframe thead th {\n",
       "        text-align: right;\n",
       "    }\n",
       "</style>\n",
       "<table border=\"1\" class=\"dataframe\">\n",
       "  <thead>\n",
       "    <tr style=\"text-align: right;\">\n",
       "      <th></th>\n",
       "      <th>id_vente</th>\n",
       "      <th>id_bien</th>\n",
       "      <th>Date mutation</th>\n",
       "      <th>Valeur fonciere</th>\n",
       "    </tr>\n",
       "  </thead>\n",
       "  <tbody>\n",
       "    <tr>\n",
       "      <th>0</th>\n",
       "      <td>1</td>\n",
       "      <td>1</td>\n",
       "      <td>2020-01-06</td>\n",
       "      <td>54800.0</td>\n",
       "    </tr>\n",
       "    <tr>\n",
       "      <th>1</th>\n",
       "      <td>2</td>\n",
       "      <td>2</td>\n",
       "      <td>2020-01-13</td>\n",
       "      <td>97000.0</td>\n",
       "    </tr>\n",
       "    <tr>\n",
       "      <th>2</th>\n",
       "      <td>3</td>\n",
       "      <td>3</td>\n",
       "      <td>2020-01-07</td>\n",
       "      <td>96000.0</td>\n",
       "    </tr>\n",
       "    <tr>\n",
       "      <th>3</th>\n",
       "      <td>4</td>\n",
       "      <td>4</td>\n",
       "      <td>2020-01-09</td>\n",
       "      <td>99000.0</td>\n",
       "    </tr>\n",
       "    <tr>\n",
       "      <th>4</th>\n",
       "      <td>5</td>\n",
       "      <td>5</td>\n",
       "      <td>2020-01-08</td>\n",
       "      <td>70000.0</td>\n",
       "    </tr>\n",
       "  </tbody>\n",
       "</table>\n",
       "</div>"
      ],
      "text/plain": [
       "   id_vente  id_bien Date mutation  Valeur fonciere\n",
       "0         1        1    2020-01-06          54800.0\n",
       "1         2        2    2020-01-13          97000.0\n",
       "2         3        3    2020-01-07          96000.0\n",
       "3         4        4    2020-01-09          99000.0\n",
       "4         5        5    2020-01-08          70000.0"
      ]
     },
     "execution_count": 6,
     "metadata": {},
     "output_type": "execute_result"
    }
   ],
   "source": [
    "vente_df = pd.DataFrame(vente)\n",
    "vente_df = vente_df[1].iloc[0]\n",
    "vente_df = pd.DataFrame(vente_df)\n",
    "vente_df.head()"
   ]
  },
  {
   "cell_type": "code",
   "execution_count": 7,
   "metadata": {},
   "outputs": [
    {
     "data": {
      "text/html": [
       "<div>\n",
       "<style scoped>\n",
       "    .dataframe tbody tr th:only-of-type {\n",
       "        vertical-align: middle;\n",
       "    }\n",
       "\n",
       "    .dataframe tbody tr th {\n",
       "        vertical-align: top;\n",
       "    }\n",
       "\n",
       "    .dataframe thead th {\n",
       "        text-align: right;\n",
       "    }\n",
       "</style>\n",
       "<table border=\"1\" class=\"dataframe\">\n",
       "  <thead>\n",
       "    <tr style=\"text-align: right;\">\n",
       "      <th></th>\n",
       "      <th>code_region</th>\n",
       "      <th>nom_region</th>\n",
       "    </tr>\n",
       "  </thead>\n",
       "  <tbody>\n",
       "    <tr>\n",
       "      <th>0</th>\n",
       "      <td>1</td>\n",
       "      <td>Guadeloupe</td>\n",
       "    </tr>\n",
       "    <tr>\n",
       "      <th>1</th>\n",
       "      <td>2</td>\n",
       "      <td>Martinique</td>\n",
       "    </tr>\n",
       "    <tr>\n",
       "      <th>2</th>\n",
       "      <td>3</td>\n",
       "      <td>Guyane</td>\n",
       "    </tr>\n",
       "    <tr>\n",
       "      <th>3</th>\n",
       "      <td>4</td>\n",
       "      <td>La Réunion</td>\n",
       "    </tr>\n",
       "    <tr>\n",
       "      <th>4</th>\n",
       "      <td>6</td>\n",
       "      <td>Mayotte</td>\n",
       "    </tr>\n",
       "  </tbody>\n",
       "</table>\n",
       "</div>"
      ],
      "text/plain": [
       "   code_region  nom_region\n",
       "0            1  Guadeloupe\n",
       "1            2  Martinique\n",
       "2            3      Guyane\n",
       "3            4  La Réunion\n",
       "4            6     Mayotte"
      ]
     },
     "execution_count": 7,
     "metadata": {},
     "output_type": "execute_result"
    }
   ],
   "source": [
    "region_df = pd.DataFrame(region)\n",
    "region_df = region_df[1].iloc[0]\n",
    "region_df = pd.DataFrame(region_df)\n",
    "region_df.head()"
   ]
  },
  {
   "cell_type": "code",
   "execution_count": 8,
   "metadata": {},
   "outputs": [
    {
     "data": {
      "text/html": [
       "<div>\n",
       "<style scoped>\n",
       "    .dataframe tbody tr th:only-of-type {\n",
       "        vertical-align: middle;\n",
       "    }\n",
       "\n",
       "    .dataframe tbody tr th {\n",
       "        vertical-align: top;\n",
       "    }\n",
       "\n",
       "    .dataframe thead th {\n",
       "        text-align: right;\n",
       "    }\n",
       "</style>\n",
       "<table border=\"1\" class=\"dataframe\">\n",
       "  <thead>\n",
       "    <tr style=\"text-align: right;\">\n",
       "      <th></th>\n",
       "      <th>index</th>\n",
       "      <th>No voie</th>\n",
       "      <th>Type de voie</th>\n",
       "      <th>Voie</th>\n",
       "      <th>Code postal_x</th>\n",
       "      <th>Commune_x</th>\n",
       "      <th>Code departement_x</th>\n",
       "      <th>Code commune_x</th>\n",
       "      <th>Surface Carrez du 1er lot</th>\n",
       "      <th>Type local</th>\n",
       "      <th>...</th>\n",
       "      <th>id_vente</th>\n",
       "      <th>Date mutation</th>\n",
       "      <th>Valeur fonciere</th>\n",
       "      <th>Code postal_y</th>\n",
       "      <th>Commune_y</th>\n",
       "      <th>Code commune_y</th>\n",
       "      <th>Code departement_y</th>\n",
       "      <th>region_code</th>\n",
       "      <th>code_region</th>\n",
       "      <th>nom_region</th>\n",
       "    </tr>\n",
       "  </thead>\n",
       "  <tbody>\n",
       "    <tr>\n",
       "      <th>0</th>\n",
       "      <td>0</td>\n",
       "      <td>6.0</td>\n",
       "      <td>AV</td>\n",
       "      <td>DU CHAMP DE FOIRE</td>\n",
       "      <td>1000.0</td>\n",
       "      <td>BOURG-EN-BRESSE</td>\n",
       "      <td>01</td>\n",
       "      <td>53.0</td>\n",
       "      <td>31.68</td>\n",
       "      <td>Appartement</td>\n",
       "      <td>...</td>\n",
       "      <td>1.0</td>\n",
       "      <td>2020-01-06</td>\n",
       "      <td>54800.0</td>\n",
       "      <td>1000.0</td>\n",
       "      <td>BOURG-EN-BRESSE</td>\n",
       "      <td>53.0</td>\n",
       "      <td>01</td>\n",
       "      <td>84.0</td>\n",
       "      <td>84.0</td>\n",
       "      <td>Auvergne-Rhône-Alpes</td>\n",
       "    </tr>\n",
       "    <tr>\n",
       "      <th>1</th>\n",
       "      <td>0</td>\n",
       "      <td>6.0</td>\n",
       "      <td>AV</td>\n",
       "      <td>DU CHAMP DE FOIRE</td>\n",
       "      <td>1000.0</td>\n",
       "      <td>BOURG-EN-BRESSE</td>\n",
       "      <td>01</td>\n",
       "      <td>53.0</td>\n",
       "      <td>31.68</td>\n",
       "      <td>Appartement</td>\n",
       "      <td>...</td>\n",
       "      <td>1.0</td>\n",
       "      <td>2020-01-06</td>\n",
       "      <td>54800.0</td>\n",
       "      <td>1270.0</td>\n",
       "      <td>VILLEMOTIER</td>\n",
       "      <td>445.0</td>\n",
       "      <td>01</td>\n",
       "      <td>84.0</td>\n",
       "      <td>84.0</td>\n",
       "      <td>Auvergne-Rhône-Alpes</td>\n",
       "    </tr>\n",
       "    <tr>\n",
       "      <th>2</th>\n",
       "      <td>0</td>\n",
       "      <td>6.0</td>\n",
       "      <td>AV</td>\n",
       "      <td>DU CHAMP DE FOIRE</td>\n",
       "      <td>1000.0</td>\n",
       "      <td>BOURG-EN-BRESSE</td>\n",
       "      <td>01</td>\n",
       "      <td>53.0</td>\n",
       "      <td>31.68</td>\n",
       "      <td>Appartement</td>\n",
       "      <td>...</td>\n",
       "      <td>1.0</td>\n",
       "      <td>2020-01-06</td>\n",
       "      <td>54800.0</td>\n",
       "      <td>1370.0</td>\n",
       "      <td>SAINT-ETIENNE-DU-BOIS</td>\n",
       "      <td>350.0</td>\n",
       "      <td>01</td>\n",
       "      <td>84.0</td>\n",
       "      <td>84.0</td>\n",
       "      <td>Auvergne-Rhône-Alpes</td>\n",
       "    </tr>\n",
       "    <tr>\n",
       "      <th>3</th>\n",
       "      <td>0</td>\n",
       "      <td>6.0</td>\n",
       "      <td>AV</td>\n",
       "      <td>DU CHAMP DE FOIRE</td>\n",
       "      <td>1000.0</td>\n",
       "      <td>BOURG-EN-BRESSE</td>\n",
       "      <td>01</td>\n",
       "      <td>53.0</td>\n",
       "      <td>31.68</td>\n",
       "      <td>Appartement</td>\n",
       "      <td>...</td>\n",
       "      <td>1.0</td>\n",
       "      <td>2020-01-06</td>\n",
       "      <td>54800.0</td>\n",
       "      <td>1340.0</td>\n",
       "      <td>MONTREVEL-EN-BRESSE</td>\n",
       "      <td>266.0</td>\n",
       "      <td>01</td>\n",
       "      <td>84.0</td>\n",
       "      <td>84.0</td>\n",
       "      <td>Auvergne-Rhône-Alpes</td>\n",
       "    </tr>\n",
       "    <tr>\n",
       "      <th>4</th>\n",
       "      <td>0</td>\n",
       "      <td>6.0</td>\n",
       "      <td>AV</td>\n",
       "      <td>DU CHAMP DE FOIRE</td>\n",
       "      <td>1000.0</td>\n",
       "      <td>BOURG-EN-BRESSE</td>\n",
       "      <td>01</td>\n",
       "      <td>53.0</td>\n",
       "      <td>31.68</td>\n",
       "      <td>Appartement</td>\n",
       "      <td>...</td>\n",
       "      <td>1.0</td>\n",
       "      <td>2020-01-06</td>\n",
       "      <td>54800.0</td>\n",
       "      <td>1750.0</td>\n",
       "      <td>SAINT-LAURENT-SUR-SAONE</td>\n",
       "      <td>370.0</td>\n",
       "      <td>01</td>\n",
       "      <td>84.0</td>\n",
       "      <td>84.0</td>\n",
       "      <td>Auvergne-Rhône-Alpes</td>\n",
       "    </tr>\n",
       "    <tr>\n",
       "      <th>...</th>\n",
       "      <td>...</td>\n",
       "      <td>...</td>\n",
       "      <td>...</td>\n",
       "      <td>...</td>\n",
       "      <td>...</td>\n",
       "      <td>...</td>\n",
       "      <td>...</td>\n",
       "      <td>...</td>\n",
       "      <td>...</td>\n",
       "      <td>...</td>\n",
       "      <td>...</td>\n",
       "      <td>...</td>\n",
       "      <td>...</td>\n",
       "      <td>...</td>\n",
       "      <td>...</td>\n",
       "      <td>...</td>\n",
       "      <td>...</td>\n",
       "      <td>...</td>\n",
       "      <td>...</td>\n",
       "      <td>...</td>\n",
       "      <td>...</td>\n",
       "    </tr>\n",
       "    <tr>\n",
       "      <th>4702383</th>\n",
       "      <td>205693</td>\n",
       "      <td>51.0</td>\n",
       "      <td>RUE</td>\n",
       "      <td>AU MAIRE</td>\n",
       "      <td>75003.0</td>\n",
       "      <td>PARIS 03</td>\n",
       "      <td>75</td>\n",
       "      <td>103.0</td>\n",
       "      <td>21.34</td>\n",
       "      <td>Appartement</td>\n",
       "      <td>...</td>\n",
       "      <td>205694.0</td>\n",
       "      <td>2020-11-25</td>\n",
       "      <td>251000.0</td>\n",
       "      <td>97421.0</td>\n",
       "      <td>SAINT-LOUIS</td>\n",
       "      <td>14.0</td>\n",
       "      <td>974</td>\n",
       "      <td>4.0</td>\n",
       "      <td>4.0</td>\n",
       "      <td>La Réunion</td>\n",
       "    </tr>\n",
       "    <tr>\n",
       "      <th>4702384</th>\n",
       "      <td>205697</td>\n",
       "      <td>47.0</td>\n",
       "      <td>RUE</td>\n",
       "      <td>DE BRETAGNE</td>\n",
       "      <td>75003.0</td>\n",
       "      <td>PARIS 03</td>\n",
       "      <td>75</td>\n",
       "      <td>103.0</td>\n",
       "      <td>142.06</td>\n",
       "      <td>Appartement</td>\n",
       "      <td>...</td>\n",
       "      <td>205698.0</td>\n",
       "      <td>2020-11-04</td>\n",
       "      <td>2370000.0</td>\n",
       "      <td>97421.0</td>\n",
       "      <td>SAINT-LOUIS</td>\n",
       "      <td>14.0</td>\n",
       "      <td>974</td>\n",
       "      <td>4.0</td>\n",
       "      <td>4.0</td>\n",
       "      <td>La Réunion</td>\n",
       "    </tr>\n",
       "    <tr>\n",
       "      <th>4702385</th>\n",
       "      <td>205702</td>\n",
       "      <td>3.0</td>\n",
       "      <td>RUE</td>\n",
       "      <td>DE DURAS</td>\n",
       "      <td>75008.0</td>\n",
       "      <td>PARIS 08</td>\n",
       "      <td>75</td>\n",
       "      <td>108.0</td>\n",
       "      <td>99.08</td>\n",
       "      <td>Appartement</td>\n",
       "      <td>...</td>\n",
       "      <td>205703.0</td>\n",
       "      <td>2020-11-26</td>\n",
       "      <td>1850000.0</td>\n",
       "      <td>97421.0</td>\n",
       "      <td>SAINT-LOUIS</td>\n",
       "      <td>14.0</td>\n",
       "      <td>974</td>\n",
       "      <td>4.0</td>\n",
       "      <td>4.0</td>\n",
       "      <td>La Réunion</td>\n",
       "    </tr>\n",
       "    <tr>\n",
       "      <th>4702386</th>\n",
       "      <td>205709</td>\n",
       "      <td>158.0</td>\n",
       "      <td>RUE</td>\n",
       "      <td>DU TEMPLE</td>\n",
       "      <td>75003.0</td>\n",
       "      <td>PARIS 03</td>\n",
       "      <td>75</td>\n",
       "      <td>103.0</td>\n",
       "      <td>114.92</td>\n",
       "      <td>Appartement</td>\n",
       "      <td>...</td>\n",
       "      <td>205710.0</td>\n",
       "      <td>2020-11-30</td>\n",
       "      <td>1806650.0</td>\n",
       "      <td>97421.0</td>\n",
       "      <td>SAINT-LOUIS</td>\n",
       "      <td>14.0</td>\n",
       "      <td>974</td>\n",
       "      <td>4.0</td>\n",
       "      <td>4.0</td>\n",
       "      <td>La Réunion</td>\n",
       "    </tr>\n",
       "    <tr>\n",
       "      <th>4702387</th>\n",
       "      <td>NaN</td>\n",
       "      <td>NaN</td>\n",
       "      <td>NaN</td>\n",
       "      <td>NaN</td>\n",
       "      <td>NaN</td>\n",
       "      <td>NaN</td>\n",
       "      <td>NaN</td>\n",
       "      <td>NaN</td>\n",
       "      <td>NaN</td>\n",
       "      <td>NaN</td>\n",
       "      <td>...</td>\n",
       "      <td>NaN</td>\n",
       "      <td>NaN</td>\n",
       "      <td>NaN</td>\n",
       "      <td>NaN</td>\n",
       "      <td>NaN</td>\n",
       "      <td>NaN</td>\n",
       "      <td>NaN</td>\n",
       "      <td>NaN</td>\n",
       "      <td>6.0</td>\n",
       "      <td>Mayotte</td>\n",
       "    </tr>\n",
       "  </tbody>\n",
       "</table>\n",
       "<p>4702388 rows × 23 columns</p>\n",
       "</div>"
      ],
      "text/plain": [
       "          index No voie Type de voie               Voie  Code postal_x  \\\n",
       "0             0     6.0           AV  DU CHAMP DE FOIRE         1000.0   \n",
       "1             0     6.0           AV  DU CHAMP DE FOIRE         1000.0   \n",
       "2             0     6.0           AV  DU CHAMP DE FOIRE         1000.0   \n",
       "3             0     6.0           AV  DU CHAMP DE FOIRE         1000.0   \n",
       "4             0     6.0           AV  DU CHAMP DE FOIRE         1000.0   \n",
       "...         ...     ...          ...                ...            ...   \n",
       "4702383  205693    51.0          RUE           AU MAIRE        75003.0   \n",
       "4702384  205697    47.0          RUE        DE BRETAGNE        75003.0   \n",
       "4702385  205702     3.0          RUE           DE DURAS        75008.0   \n",
       "4702386  205709   158.0          RUE          DU TEMPLE        75003.0   \n",
       "4702387     NaN     NaN          NaN                NaN            NaN   \n",
       "\n",
       "               Commune_x Code departement_x  Code commune_x  \\\n",
       "0        BOURG-EN-BRESSE                 01            53.0   \n",
       "1        BOURG-EN-BRESSE                 01            53.0   \n",
       "2        BOURG-EN-BRESSE                 01            53.0   \n",
       "3        BOURG-EN-BRESSE                 01            53.0   \n",
       "4        BOURG-EN-BRESSE                 01            53.0   \n",
       "...                  ...                ...             ...   \n",
       "4702383         PARIS 03                 75           103.0   \n",
       "4702384         PARIS 03                 75           103.0   \n",
       "4702385         PARIS 08                 75           108.0   \n",
       "4702386         PARIS 03                 75           103.0   \n",
       "4702387              NaN                NaN             NaN   \n",
       "\n",
       "         Surface Carrez du 1er lot   Type local  ...  id_vente  Date mutation  \\\n",
       "0                            31.68  Appartement  ...       1.0     2020-01-06   \n",
       "1                            31.68  Appartement  ...       1.0     2020-01-06   \n",
       "2                            31.68  Appartement  ...       1.0     2020-01-06   \n",
       "3                            31.68  Appartement  ...       1.0     2020-01-06   \n",
       "4                            31.68  Appartement  ...       1.0     2020-01-06   \n",
       "...                            ...          ...  ...       ...            ...   \n",
       "4702383                      21.34  Appartement  ...  205694.0     2020-11-25   \n",
       "4702384                     142.06  Appartement  ...  205698.0     2020-11-04   \n",
       "4702385                      99.08  Appartement  ...  205703.0     2020-11-26   \n",
       "4702386                     114.92  Appartement  ...  205710.0     2020-11-30   \n",
       "4702387                        NaN          NaN  ...       NaN            NaN   \n",
       "\n",
       "        Valeur fonciere  Code postal_y                Commune_y  \\\n",
       "0               54800.0         1000.0          BOURG-EN-BRESSE   \n",
       "1               54800.0         1270.0              VILLEMOTIER   \n",
       "2               54800.0         1370.0    SAINT-ETIENNE-DU-BOIS   \n",
       "3               54800.0         1340.0      MONTREVEL-EN-BRESSE   \n",
       "4               54800.0         1750.0  SAINT-LAURENT-SUR-SAONE   \n",
       "...                 ...            ...                      ...   \n",
       "4702383        251000.0        97421.0              SAINT-LOUIS   \n",
       "4702384       2370000.0        97421.0              SAINT-LOUIS   \n",
       "4702385       1850000.0        97421.0              SAINT-LOUIS   \n",
       "4702386       1806650.0        97421.0              SAINT-LOUIS   \n",
       "4702387             NaN            NaN                      NaN   \n",
       "\n",
       "         Code commune_y  Code departement_y region_code  code_region  \\\n",
       "0                  53.0                  01        84.0         84.0   \n",
       "1                 445.0                  01        84.0         84.0   \n",
       "2                 350.0                  01        84.0         84.0   \n",
       "3                 266.0                  01        84.0         84.0   \n",
       "4                 370.0                  01        84.0         84.0   \n",
       "...                 ...                 ...         ...          ...   \n",
       "4702383            14.0                 974         4.0          4.0   \n",
       "4702384            14.0                 974         4.0          4.0   \n",
       "4702385            14.0                 974         4.0          4.0   \n",
       "4702386            14.0                 974         4.0          4.0   \n",
       "4702387             NaN                 NaN         NaN          6.0   \n",
       "\n",
       "                   nom_region  \n",
       "0        Auvergne-Rhône-Alpes  \n",
       "1        Auvergne-Rhône-Alpes  \n",
       "2        Auvergne-Rhône-Alpes  \n",
       "3        Auvergne-Rhône-Alpes  \n",
       "4        Auvergne-Rhône-Alpes  \n",
       "...                       ...  \n",
       "4702383            La Réunion  \n",
       "4702384            La Réunion  \n",
       "4702385            La Réunion  \n",
       "4702386            La Réunion  \n",
       "4702387               Mayotte  \n",
       "\n",
       "[4702388 rows x 23 columns]"
      ]
     },
     "execution_count": 8,
     "metadata": {},
     "output_type": "execute_result"
    }
   ],
   "source": [
    "clean_df = bien_df.merge(vente_df, left_on='id_bien', right_on=\"id_bien\", how='outer')\n",
    "clean_df = clean_df.merge(commune_df, left_on='id_codedep_codecommune', right_on='id_codedep_codecommune', how='outer')\n",
    "clean_df = clean_df.merge(region_df, left_on='region_code', right_on='code_region', how='outer')\n",
    "clean_df"
   ]
  },
  {
   "cell_type": "code",
   "execution_count": 9,
   "metadata": {},
   "outputs": [
    {
     "data": {
      "text/html": [
       "<div>\n",
       "<style scoped>\n",
       "    .dataframe tbody tr th:only-of-type {\n",
       "        vertical-align: middle;\n",
       "    }\n",
       "\n",
       "    .dataframe tbody tr th {\n",
       "        vertical-align: top;\n",
       "    }\n",
       "\n",
       "    .dataframe thead th {\n",
       "        text-align: right;\n",
       "    }\n",
       "</style>\n",
       "<table border=\"1\" class=\"dataframe\">\n",
       "  <thead>\n",
       "    <tr style=\"text-align: right;\">\n",
       "      <th></th>\n",
       "      <th>index</th>\n",
       "      <th>No voie</th>\n",
       "      <th>Type de voie</th>\n",
       "      <th>Voie</th>\n",
       "      <th>Code postal_x</th>\n",
       "      <th>Commune_x</th>\n",
       "      <th>Code departement_x</th>\n",
       "      <th>Code commune_x</th>\n",
       "      <th>Surface Carrez du 1er lot</th>\n",
       "      <th>Type local</th>\n",
       "      <th>Nombre pieces principales</th>\n",
       "      <th>id_bien</th>\n",
       "      <th>id_codedep_codecommune</th>\n",
       "      <th>id_vente</th>\n",
       "      <th>Date mutation</th>\n",
       "      <th>Valeur fonciere</th>\n",
       "      <th>region_code</th>\n",
       "      <th>code_region</th>\n",
       "      <th>nom_region</th>\n",
       "    </tr>\n",
       "  </thead>\n",
       "  <tbody>\n",
       "    <tr>\n",
       "      <th>0</th>\n",
       "      <td>0</td>\n",
       "      <td>6.0</td>\n",
       "      <td>AV</td>\n",
       "      <td>DU CHAMP DE FOIRE</td>\n",
       "      <td>1000.0</td>\n",
       "      <td>BOURG-EN-BRESSE</td>\n",
       "      <td>01</td>\n",
       "      <td>53.0</td>\n",
       "      <td>31.68</td>\n",
       "      <td>Appartement</td>\n",
       "      <td>1.0</td>\n",
       "      <td>1.0</td>\n",
       "      <td>01_53</td>\n",
       "      <td>1.0</td>\n",
       "      <td>2020-01-06</td>\n",
       "      <td>54800.0</td>\n",
       "      <td>84.0</td>\n",
       "      <td>84.0</td>\n",
       "      <td>Auvergne-Rhône-Alpes</td>\n",
       "    </tr>\n",
       "    <tr>\n",
       "      <th>26</th>\n",
       "      <td>1</td>\n",
       "      <td>16.0</td>\n",
       "      <td>RUE</td>\n",
       "      <td>DES GRAVES</td>\n",
       "      <td>1000.0</td>\n",
       "      <td>BOURG-EN-BRESSE</td>\n",
       "      <td>01</td>\n",
       "      <td>53.0</td>\n",
       "      <td>78.03</td>\n",
       "      <td>Appartement</td>\n",
       "      <td>3.0</td>\n",
       "      <td>2.0</td>\n",
       "      <td>01_53</td>\n",
       "      <td>2.0</td>\n",
       "      <td>2020-01-13</td>\n",
       "      <td>97000.0</td>\n",
       "      <td>84.0</td>\n",
       "      <td>84.0</td>\n",
       "      <td>Auvergne-Rhône-Alpes</td>\n",
       "    </tr>\n",
       "    <tr>\n",
       "      <th>52</th>\n",
       "      <td>2</td>\n",
       "      <td>12.0</td>\n",
       "      <td>ALL</td>\n",
       "      <td>DE LA PETITE REYSSOUZE</td>\n",
       "      <td>1000.0</td>\n",
       "      <td>BOURG-EN-BRESSE</td>\n",
       "      <td>01</td>\n",
       "      <td>53.0</td>\n",
       "      <td>74.07</td>\n",
       "      <td>Appartement</td>\n",
       "      <td>3.0</td>\n",
       "      <td>3.0</td>\n",
       "      <td>01_53</td>\n",
       "      <td>3.0</td>\n",
       "      <td>2020-01-07</td>\n",
       "      <td>96000.0</td>\n",
       "      <td>84.0</td>\n",
       "      <td>84.0</td>\n",
       "      <td>Auvergne-Rhône-Alpes</td>\n",
       "    </tr>\n",
       "    <tr>\n",
       "      <th>78</th>\n",
       "      <td>3</td>\n",
       "      <td>18.0</td>\n",
       "      <td>RUE</td>\n",
       "      <td>DES GRAVES</td>\n",
       "      <td>1000.0</td>\n",
       "      <td>BOURG-EN-BRESSE</td>\n",
       "      <td>01</td>\n",
       "      <td>53.0</td>\n",
       "      <td>91.47</td>\n",
       "      <td>Appartement</td>\n",
       "      <td>4.0</td>\n",
       "      <td>4.0</td>\n",
       "      <td>01_53</td>\n",
       "      <td>4.0</td>\n",
       "      <td>2020-01-09</td>\n",
       "      <td>99000.0</td>\n",
       "      <td>84.0</td>\n",
       "      <td>84.0</td>\n",
       "      <td>Auvergne-Rhône-Alpes</td>\n",
       "    </tr>\n",
       "    <tr>\n",
       "      <th>104</th>\n",
       "      <td>4</td>\n",
       "      <td>5.0</td>\n",
       "      <td>RUE</td>\n",
       "      <td>EDGAR  QUINET</td>\n",
       "      <td>1000.0</td>\n",
       "      <td>BOURG-EN-BRESSE</td>\n",
       "      <td>01</td>\n",
       "      <td>53.0</td>\n",
       "      <td>48.48</td>\n",
       "      <td>Appartement</td>\n",
       "      <td>2.0</td>\n",
       "      <td>5.0</td>\n",
       "      <td>01_53</td>\n",
       "      <td>5.0</td>\n",
       "      <td>2020-01-08</td>\n",
       "      <td>70000.0</td>\n",
       "      <td>84.0</td>\n",
       "      <td>84.0</td>\n",
       "      <td>Auvergne-Rhône-Alpes</td>\n",
       "    </tr>\n",
       "    <tr>\n",
       "      <th>...</th>\n",
       "      <td>...</td>\n",
       "      <td>...</td>\n",
       "      <td>...</td>\n",
       "      <td>...</td>\n",
       "      <td>...</td>\n",
       "      <td>...</td>\n",
       "      <td>...</td>\n",
       "      <td>...</td>\n",
       "      <td>...</td>\n",
       "      <td>...</td>\n",
       "      <td>...</td>\n",
       "      <td>...</td>\n",
       "      <td>...</td>\n",
       "      <td>...</td>\n",
       "      <td>...</td>\n",
       "      <td>...</td>\n",
       "      <td>...</td>\n",
       "      <td>...</td>\n",
       "      <td>...</td>\n",
       "    </tr>\n",
       "    <tr>\n",
       "      <th>4702171</th>\n",
       "      <td>205683</td>\n",
       "      <td>17.0</td>\n",
       "      <td>RUE</td>\n",
       "      <td>DE POITOU</td>\n",
       "      <td>75003.0</td>\n",
       "      <td>PARIS 03</td>\n",
       "      <td>75</td>\n",
       "      <td>103.0</td>\n",
       "      <td>60.98</td>\n",
       "      <td>Appartement</td>\n",
       "      <td>3.0</td>\n",
       "      <td>194353.0</td>\n",
       "      <td>94_19</td>\n",
       "      <td>205684.0</td>\n",
       "      <td>2020-11-20</td>\n",
       "      <td>780000.0</td>\n",
       "      <td>4.0</td>\n",
       "      <td>4.0</td>\n",
       "      <td>La Réunion</td>\n",
       "    </tr>\n",
       "    <tr>\n",
       "      <th>4702172</th>\n",
       "      <td>205690</td>\n",
       "      <td>21.0</td>\n",
       "      <td>RUE</td>\n",
       "      <td>DU GENERAL FOY</td>\n",
       "      <td>75008.0</td>\n",
       "      <td>PARIS 08</td>\n",
       "      <td>75</td>\n",
       "      <td>108.0</td>\n",
       "      <td>37.07</td>\n",
       "      <td>Appartement</td>\n",
       "      <td>1.0</td>\n",
       "      <td>194360.0</td>\n",
       "      <td>94_19</td>\n",
       "      <td>205691.0</td>\n",
       "      <td>2020-11-10</td>\n",
       "      <td>330000.0</td>\n",
       "      <td>4.0</td>\n",
       "      <td>4.0</td>\n",
       "      <td>La Réunion</td>\n",
       "    </tr>\n",
       "    <tr>\n",
       "      <th>4702173</th>\n",
       "      <td>205694</td>\n",
       "      <td>22.0</td>\n",
       "      <td>RUE</td>\n",
       "      <td>MURILLO</td>\n",
       "      <td>75008.0</td>\n",
       "      <td>PARIS 08</td>\n",
       "      <td>75</td>\n",
       "      <td>108.0</td>\n",
       "      <td>63.60</td>\n",
       "      <td>Appartement</td>\n",
       "      <td>2.0</td>\n",
       "      <td>194364.0</td>\n",
       "      <td>94_19</td>\n",
       "      <td>205695.0</td>\n",
       "      <td>2020-11-19</td>\n",
       "      <td>899000.0</td>\n",
       "      <td>4.0</td>\n",
       "      <td>4.0</td>\n",
       "      <td>La Réunion</td>\n",
       "    </tr>\n",
       "    <tr>\n",
       "      <th>4702174</th>\n",
       "      <td>205696</td>\n",
       "      <td>88.0</td>\n",
       "      <td>RUE</td>\n",
       "      <td>QUINCAMPOIX</td>\n",
       "      <td>75003.0</td>\n",
       "      <td>PARIS 03</td>\n",
       "      <td>75</td>\n",
       "      <td>103.0</td>\n",
       "      <td>32.62</td>\n",
       "      <td>Appartement</td>\n",
       "      <td>1.0</td>\n",
       "      <td>194366.0</td>\n",
       "      <td>94_19</td>\n",
       "      <td>205697.0</td>\n",
       "      <td>2020-11-13</td>\n",
       "      <td>400000.0</td>\n",
       "      <td>4.0</td>\n",
       "      <td>4.0</td>\n",
       "      <td>La Réunion</td>\n",
       "    </tr>\n",
       "    <tr>\n",
       "      <th>4702387</th>\n",
       "      <td>NaN</td>\n",
       "      <td>NaN</td>\n",
       "      <td>NaN</td>\n",
       "      <td>NaN</td>\n",
       "      <td>NaN</td>\n",
       "      <td>NaN</td>\n",
       "      <td>NaN</td>\n",
       "      <td>NaN</td>\n",
       "      <td>NaN</td>\n",
       "      <td>NaN</td>\n",
       "      <td>NaN</td>\n",
       "      <td>NaN</td>\n",
       "      <td>NaN</td>\n",
       "      <td>NaN</td>\n",
       "      <td>NaN</td>\n",
       "      <td>NaN</td>\n",
       "      <td>NaN</td>\n",
       "      <td>6.0</td>\n",
       "      <td>Mayotte</td>\n",
       "    </tr>\n",
       "  </tbody>\n",
       "</table>\n",
       "<p>214489 rows × 19 columns</p>\n",
       "</div>"
      ],
      "text/plain": [
       "          index No voie Type de voie                    Voie  Code postal_x  \\\n",
       "0             0     6.0           AV       DU CHAMP DE FOIRE         1000.0   \n",
       "26            1    16.0          RUE              DES GRAVES         1000.0   \n",
       "52            2    12.0          ALL  DE LA PETITE REYSSOUZE         1000.0   \n",
       "78            3    18.0          RUE              DES GRAVES         1000.0   \n",
       "104           4     5.0          RUE           EDGAR  QUINET         1000.0   \n",
       "...         ...     ...          ...                     ...            ...   \n",
       "4702171  205683    17.0          RUE               DE POITOU        75003.0   \n",
       "4702172  205690    21.0          RUE          DU GENERAL FOY        75008.0   \n",
       "4702173  205694    22.0          RUE                 MURILLO        75008.0   \n",
       "4702174  205696    88.0          RUE             QUINCAMPOIX        75003.0   \n",
       "4702387     NaN     NaN          NaN                     NaN            NaN   \n",
       "\n",
       "               Commune_x Code departement_x  Code commune_x  \\\n",
       "0        BOURG-EN-BRESSE                 01            53.0   \n",
       "26       BOURG-EN-BRESSE                 01            53.0   \n",
       "52       BOURG-EN-BRESSE                 01            53.0   \n",
       "78       BOURG-EN-BRESSE                 01            53.0   \n",
       "104      BOURG-EN-BRESSE                 01            53.0   \n",
       "...                  ...                ...             ...   \n",
       "4702171         PARIS 03                 75           103.0   \n",
       "4702172         PARIS 08                 75           108.0   \n",
       "4702173         PARIS 08                 75           108.0   \n",
       "4702174         PARIS 03                 75           103.0   \n",
       "4702387              NaN                NaN             NaN   \n",
       "\n",
       "         Surface Carrez du 1er lot   Type local  Nombre pieces principales  \\\n",
       "0                            31.68  Appartement                        1.0   \n",
       "26                           78.03  Appartement                        3.0   \n",
       "52                           74.07  Appartement                        3.0   \n",
       "78                           91.47  Appartement                        4.0   \n",
       "104                          48.48  Appartement                        2.0   \n",
       "...                            ...          ...                        ...   \n",
       "4702171                      60.98  Appartement                        3.0   \n",
       "4702172                      37.07  Appartement                        1.0   \n",
       "4702173                      63.60  Appartement                        2.0   \n",
       "4702174                      32.62  Appartement                        1.0   \n",
       "4702387                        NaN          NaN                        NaN   \n",
       "\n",
       "          id_bien id_codedep_codecommune  id_vente Date mutation  \\\n",
       "0             1.0                  01_53       1.0    2020-01-06   \n",
       "26            2.0                  01_53       2.0    2020-01-13   \n",
       "52            3.0                  01_53       3.0    2020-01-07   \n",
       "78            4.0                  01_53       4.0    2020-01-09   \n",
       "104           5.0                  01_53       5.0    2020-01-08   \n",
       "...           ...                    ...       ...           ...   \n",
       "4702171  194353.0                  94_19  205684.0    2020-11-20   \n",
       "4702172  194360.0                  94_19  205691.0    2020-11-10   \n",
       "4702173  194364.0                  94_19  205695.0    2020-11-19   \n",
       "4702174  194366.0                  94_19  205697.0    2020-11-13   \n",
       "4702387       NaN                    NaN       NaN           NaN   \n",
       "\n",
       "         Valeur fonciere  region_code  code_region            nom_region  \n",
       "0                54800.0         84.0         84.0  Auvergne-Rhône-Alpes  \n",
       "26               97000.0         84.0         84.0  Auvergne-Rhône-Alpes  \n",
       "52               96000.0         84.0         84.0  Auvergne-Rhône-Alpes  \n",
       "78               99000.0         84.0         84.0  Auvergne-Rhône-Alpes  \n",
       "104              70000.0         84.0         84.0  Auvergne-Rhône-Alpes  \n",
       "...                  ...          ...          ...                   ...  \n",
       "4702171         780000.0          4.0          4.0            La Réunion  \n",
       "4702172         330000.0          4.0          4.0            La Réunion  \n",
       "4702173         899000.0          4.0          4.0            La Réunion  \n",
       "4702174         400000.0          4.0          4.0            La Réunion  \n",
       "4702387              NaN          NaN          6.0               Mayotte  \n",
       "\n",
       "[214489 rows x 19 columns]"
      ]
     },
     "execution_count": 9,
     "metadata": {},
     "output_type": "execute_result"
    }
   ],
   "source": [
    "clean_df = clean_df.drop_duplicates(subset=\"id_vente\")\n",
    "clean_df = clean_df.drop(columns=[\"Code postal_y\",\"Commune_y\",\"Code commune_y\",\"Code departement_y\"])\n",
    "#clean_df = clean_df.replace(\"Code postal_x\":\"Code postal\",\"Commune_x\":\"Commune\",\"Code departement_x\":\"Code departement\",\"Code commune_x\":\"Code commune\")\n",
    "clean_df\n"
   ]
  },
  {
   "cell_type": "code",
   "execution_count": 10,
   "metadata": {},
   "outputs": [
    {
     "data": {
      "text/plain": [
       "index                        0\n",
       "No voie                      0\n",
       "Type de voie                 0\n",
       "Voie                         0\n",
       "Code postal_x                0\n",
       "Commune_x                    0\n",
       "Code departement_x           0\n",
       "Code commune_x               0\n",
       "Surface Carrez du 1er lot    0\n",
       "Type local                   0\n",
       "Nombre pieces principales    0\n",
       "id_bien                      0\n",
       "id_codedep_codecommune       0\n",
       "id_vente                     0\n",
       "Date mutation                0\n",
       "Valeur fonciere              0\n",
       "region_code                  0\n",
       "code_region                  0\n",
       "nom_region                   0\n",
       "dtype: int64"
      ]
     },
     "execution_count": 10,
     "metadata": {},
     "output_type": "execute_result"
    }
   ],
   "source": [
    "clean_df.dropna(inplace=True)\n",
    "clean_df.isna().sum()"
   ]
  },
  {
   "cell_type": "code",
   "execution_count": 11,
   "metadata": {},
   "outputs": [
    {
     "data": {
      "text/html": [
       "<div>\n",
       "<style scoped>\n",
       "    .dataframe tbody tr th:only-of-type {\n",
       "        vertical-align: middle;\n",
       "    }\n",
       "\n",
       "    .dataframe tbody tr th {\n",
       "        vertical-align: top;\n",
       "    }\n",
       "\n",
       "    .dataframe thead th {\n",
       "        text-align: right;\n",
       "    }\n",
       "</style>\n",
       "<table border=\"1\" class=\"dataframe\">\n",
       "  <thead>\n",
       "    <tr style=\"text-align: right;\">\n",
       "      <th></th>\n",
       "      <th>index</th>\n",
       "      <th>No voie</th>\n",
       "      <th>Type de voie</th>\n",
       "      <th>Voie</th>\n",
       "      <th>Code postal_x</th>\n",
       "      <th>Commune_x</th>\n",
       "      <th>Code departement_x</th>\n",
       "      <th>Code commune_x</th>\n",
       "      <th>Surface Carrez du 1er lot</th>\n",
       "      <th>Type local</th>\n",
       "      <th>Nombre pieces principales</th>\n",
       "      <th>id_bien</th>\n",
       "      <th>id_codedep_codecommune</th>\n",
       "      <th>id_vente</th>\n",
       "      <th>Date mutation</th>\n",
       "      <th>Valeur fonciere</th>\n",
       "      <th>region_code</th>\n",
       "      <th>code_region</th>\n",
       "      <th>nom_region</th>\n",
       "    </tr>\n",
       "  </thead>\n",
       "  <tbody>\n",
       "    <tr>\n",
       "      <th>0</th>\n",
       "      <td>0</td>\n",
       "      <td>6.0</td>\n",
       "      <td>AV</td>\n",
       "      <td>DU CHAMP DE FOIRE</td>\n",
       "      <td>1000.0</td>\n",
       "      <td>BOURG-EN-BRESSE</td>\n",
       "      <td>01</td>\n",
       "      <td>53.0</td>\n",
       "      <td>31.68</td>\n",
       "      <td>Appartement</td>\n",
       "      <td>1.0</td>\n",
       "      <td>1.0</td>\n",
       "      <td>01_53</td>\n",
       "      <td>1.0</td>\n",
       "      <td>2020-01-06</td>\n",
       "      <td>54800.0</td>\n",
       "      <td>84.0</td>\n",
       "      <td>84.0</td>\n",
       "      <td>Auvergne-Rhône-Alpes</td>\n",
       "    </tr>\n",
       "    <tr>\n",
       "      <th>26</th>\n",
       "      <td>1</td>\n",
       "      <td>16.0</td>\n",
       "      <td>RUE</td>\n",
       "      <td>DES GRAVES</td>\n",
       "      <td>1000.0</td>\n",
       "      <td>BOURG-EN-BRESSE</td>\n",
       "      <td>01</td>\n",
       "      <td>53.0</td>\n",
       "      <td>78.03</td>\n",
       "      <td>Appartement</td>\n",
       "      <td>3.0</td>\n",
       "      <td>2.0</td>\n",
       "      <td>01_53</td>\n",
       "      <td>2.0</td>\n",
       "      <td>2020-01-13</td>\n",
       "      <td>97000.0</td>\n",
       "      <td>84.0</td>\n",
       "      <td>84.0</td>\n",
       "      <td>Auvergne-Rhône-Alpes</td>\n",
       "    </tr>\n",
       "    <tr>\n",
       "      <th>52</th>\n",
       "      <td>2</td>\n",
       "      <td>12.0</td>\n",
       "      <td>ALL</td>\n",
       "      <td>DE LA PETITE REYSSOUZE</td>\n",
       "      <td>1000.0</td>\n",
       "      <td>BOURG-EN-BRESSE</td>\n",
       "      <td>01</td>\n",
       "      <td>53.0</td>\n",
       "      <td>74.07</td>\n",
       "      <td>Appartement</td>\n",
       "      <td>3.0</td>\n",
       "      <td>3.0</td>\n",
       "      <td>01_53</td>\n",
       "      <td>3.0</td>\n",
       "      <td>2020-01-07</td>\n",
       "      <td>96000.0</td>\n",
       "      <td>84.0</td>\n",
       "      <td>84.0</td>\n",
       "      <td>Auvergne-Rhône-Alpes</td>\n",
       "    </tr>\n",
       "    <tr>\n",
       "      <th>78</th>\n",
       "      <td>3</td>\n",
       "      <td>18.0</td>\n",
       "      <td>RUE</td>\n",
       "      <td>DES GRAVES</td>\n",
       "      <td>1000.0</td>\n",
       "      <td>BOURG-EN-BRESSE</td>\n",
       "      <td>01</td>\n",
       "      <td>53.0</td>\n",
       "      <td>91.47</td>\n",
       "      <td>Appartement</td>\n",
       "      <td>4.0</td>\n",
       "      <td>4.0</td>\n",
       "      <td>01_53</td>\n",
       "      <td>4.0</td>\n",
       "      <td>2020-01-09</td>\n",
       "      <td>99000.0</td>\n",
       "      <td>84.0</td>\n",
       "      <td>84.0</td>\n",
       "      <td>Auvergne-Rhône-Alpes</td>\n",
       "    </tr>\n",
       "    <tr>\n",
       "      <th>104</th>\n",
       "      <td>4</td>\n",
       "      <td>5.0</td>\n",
       "      <td>RUE</td>\n",
       "      <td>EDGAR  QUINET</td>\n",
       "      <td>1000.0</td>\n",
       "      <td>BOURG-EN-BRESSE</td>\n",
       "      <td>01</td>\n",
       "      <td>53.0</td>\n",
       "      <td>48.48</td>\n",
       "      <td>Appartement</td>\n",
       "      <td>2.0</td>\n",
       "      <td>5.0</td>\n",
       "      <td>01_53</td>\n",
       "      <td>5.0</td>\n",
       "      <td>2020-01-08</td>\n",
       "      <td>70000.0</td>\n",
       "      <td>84.0</td>\n",
       "      <td>84.0</td>\n",
       "      <td>Auvergne-Rhône-Alpes</td>\n",
       "    </tr>\n",
       "    <tr>\n",
       "      <th>...</th>\n",
       "      <td>...</td>\n",
       "      <td>...</td>\n",
       "      <td>...</td>\n",
       "      <td>...</td>\n",
       "      <td>...</td>\n",
       "      <td>...</td>\n",
       "      <td>...</td>\n",
       "      <td>...</td>\n",
       "      <td>...</td>\n",
       "      <td>...</td>\n",
       "      <td>...</td>\n",
       "      <td>...</td>\n",
       "      <td>...</td>\n",
       "      <td>...</td>\n",
       "      <td>...</td>\n",
       "      <td>...</td>\n",
       "      <td>...</td>\n",
       "      <td>...</td>\n",
       "      <td>...</td>\n",
       "    </tr>\n",
       "    <tr>\n",
       "      <th>4702170</th>\n",
       "      <td>205678</td>\n",
       "      <td>79.0</td>\n",
       "      <td>RUE</td>\n",
       "      <td>DE TURBIGO</td>\n",
       "      <td>75003.0</td>\n",
       "      <td>PARIS 03</td>\n",
       "      <td>75</td>\n",
       "      <td>103.0</td>\n",
       "      <td>86.37</td>\n",
       "      <td>Appartement</td>\n",
       "      <td>4.0</td>\n",
       "      <td>194348.0</td>\n",
       "      <td>94_19</td>\n",
       "      <td>205679.0</td>\n",
       "      <td>2020-11-17</td>\n",
       "      <td>1248000.0</td>\n",
       "      <td>4.0</td>\n",
       "      <td>4.0</td>\n",
       "      <td>La Réunion</td>\n",
       "    </tr>\n",
       "    <tr>\n",
       "      <th>4702171</th>\n",
       "      <td>205683</td>\n",
       "      <td>17.0</td>\n",
       "      <td>RUE</td>\n",
       "      <td>DE POITOU</td>\n",
       "      <td>75003.0</td>\n",
       "      <td>PARIS 03</td>\n",
       "      <td>75</td>\n",
       "      <td>103.0</td>\n",
       "      <td>60.98</td>\n",
       "      <td>Appartement</td>\n",
       "      <td>3.0</td>\n",
       "      <td>194353.0</td>\n",
       "      <td>94_19</td>\n",
       "      <td>205684.0</td>\n",
       "      <td>2020-11-20</td>\n",
       "      <td>780000.0</td>\n",
       "      <td>4.0</td>\n",
       "      <td>4.0</td>\n",
       "      <td>La Réunion</td>\n",
       "    </tr>\n",
       "    <tr>\n",
       "      <th>4702172</th>\n",
       "      <td>205690</td>\n",
       "      <td>21.0</td>\n",
       "      <td>RUE</td>\n",
       "      <td>DU GENERAL FOY</td>\n",
       "      <td>75008.0</td>\n",
       "      <td>PARIS 08</td>\n",
       "      <td>75</td>\n",
       "      <td>108.0</td>\n",
       "      <td>37.07</td>\n",
       "      <td>Appartement</td>\n",
       "      <td>1.0</td>\n",
       "      <td>194360.0</td>\n",
       "      <td>94_19</td>\n",
       "      <td>205691.0</td>\n",
       "      <td>2020-11-10</td>\n",
       "      <td>330000.0</td>\n",
       "      <td>4.0</td>\n",
       "      <td>4.0</td>\n",
       "      <td>La Réunion</td>\n",
       "    </tr>\n",
       "    <tr>\n",
       "      <th>4702173</th>\n",
       "      <td>205694</td>\n",
       "      <td>22.0</td>\n",
       "      <td>RUE</td>\n",
       "      <td>MURILLO</td>\n",
       "      <td>75008.0</td>\n",
       "      <td>PARIS 08</td>\n",
       "      <td>75</td>\n",
       "      <td>108.0</td>\n",
       "      <td>63.60</td>\n",
       "      <td>Appartement</td>\n",
       "      <td>2.0</td>\n",
       "      <td>194364.0</td>\n",
       "      <td>94_19</td>\n",
       "      <td>205695.0</td>\n",
       "      <td>2020-11-19</td>\n",
       "      <td>899000.0</td>\n",
       "      <td>4.0</td>\n",
       "      <td>4.0</td>\n",
       "      <td>La Réunion</td>\n",
       "    </tr>\n",
       "    <tr>\n",
       "      <th>4702174</th>\n",
       "      <td>205696</td>\n",
       "      <td>88.0</td>\n",
       "      <td>RUE</td>\n",
       "      <td>QUINCAMPOIX</td>\n",
       "      <td>75003.0</td>\n",
       "      <td>PARIS 03</td>\n",
       "      <td>75</td>\n",
       "      <td>103.0</td>\n",
       "      <td>32.62</td>\n",
       "      <td>Appartement</td>\n",
       "      <td>1.0</td>\n",
       "      <td>194366.0</td>\n",
       "      <td>94_19</td>\n",
       "      <td>205697.0</td>\n",
       "      <td>2020-11-13</td>\n",
       "      <td>400000.0</td>\n",
       "      <td>4.0</td>\n",
       "      <td>4.0</td>\n",
       "      <td>La Réunion</td>\n",
       "    </tr>\n",
       "  </tbody>\n",
       "</table>\n",
       "<p>151187 rows × 19 columns</p>\n",
       "</div>"
      ],
      "text/plain": [
       "          index No voie Type de voie                    Voie  Code postal_x  \\\n",
       "0             0     6.0           AV       DU CHAMP DE FOIRE         1000.0   \n",
       "26            1    16.0          RUE              DES GRAVES         1000.0   \n",
       "52            2    12.0          ALL  DE LA PETITE REYSSOUZE         1000.0   \n",
       "78            3    18.0          RUE              DES GRAVES         1000.0   \n",
       "104           4     5.0          RUE           EDGAR  QUINET         1000.0   \n",
       "...         ...     ...          ...                     ...            ...   \n",
       "4702170  205678    79.0          RUE              DE TURBIGO        75003.0   \n",
       "4702171  205683    17.0          RUE               DE POITOU        75003.0   \n",
       "4702172  205690    21.0          RUE          DU GENERAL FOY        75008.0   \n",
       "4702173  205694    22.0          RUE                 MURILLO        75008.0   \n",
       "4702174  205696    88.0          RUE             QUINCAMPOIX        75003.0   \n",
       "\n",
       "               Commune_x Code departement_x  Code commune_x  \\\n",
       "0        BOURG-EN-BRESSE                 01            53.0   \n",
       "26       BOURG-EN-BRESSE                 01            53.0   \n",
       "52       BOURG-EN-BRESSE                 01            53.0   \n",
       "78       BOURG-EN-BRESSE                 01            53.0   \n",
       "104      BOURG-EN-BRESSE                 01            53.0   \n",
       "...                  ...                ...             ...   \n",
       "4702170         PARIS 03                 75           103.0   \n",
       "4702171         PARIS 03                 75           103.0   \n",
       "4702172         PARIS 08                 75           108.0   \n",
       "4702173         PARIS 08                 75           108.0   \n",
       "4702174         PARIS 03                 75           103.0   \n",
       "\n",
       "         Surface Carrez du 1er lot   Type local  Nombre pieces principales  \\\n",
       "0                            31.68  Appartement                        1.0   \n",
       "26                           78.03  Appartement                        3.0   \n",
       "52                           74.07  Appartement                        3.0   \n",
       "78                           91.47  Appartement                        4.0   \n",
       "104                          48.48  Appartement                        2.0   \n",
       "...                            ...          ...                        ...   \n",
       "4702170                      86.37  Appartement                        4.0   \n",
       "4702171                      60.98  Appartement                        3.0   \n",
       "4702172                      37.07  Appartement                        1.0   \n",
       "4702173                      63.60  Appartement                        2.0   \n",
       "4702174                      32.62  Appartement                        1.0   \n",
       "\n",
       "          id_bien id_codedep_codecommune  id_vente Date mutation  \\\n",
       "0             1.0                  01_53       1.0    2020-01-06   \n",
       "26            2.0                  01_53       2.0    2020-01-13   \n",
       "52            3.0                  01_53       3.0    2020-01-07   \n",
       "78            4.0                  01_53       4.0    2020-01-09   \n",
       "104           5.0                  01_53       5.0    2020-01-08   \n",
       "...           ...                    ...       ...           ...   \n",
       "4702170  194348.0                  94_19  205679.0    2020-11-17   \n",
       "4702171  194353.0                  94_19  205684.0    2020-11-20   \n",
       "4702172  194360.0                  94_19  205691.0    2020-11-10   \n",
       "4702173  194364.0                  94_19  205695.0    2020-11-19   \n",
       "4702174  194366.0                  94_19  205697.0    2020-11-13   \n",
       "\n",
       "         Valeur fonciere  region_code  code_region            nom_region  \n",
       "0                54800.0         84.0         84.0  Auvergne-Rhône-Alpes  \n",
       "26               97000.0         84.0         84.0  Auvergne-Rhône-Alpes  \n",
       "52               96000.0         84.0         84.0  Auvergne-Rhône-Alpes  \n",
       "78               99000.0         84.0         84.0  Auvergne-Rhône-Alpes  \n",
       "104              70000.0         84.0         84.0  Auvergne-Rhône-Alpes  \n",
       "...                  ...          ...          ...                   ...  \n",
       "4702170        1248000.0          4.0          4.0            La Réunion  \n",
       "4702171         780000.0          4.0          4.0            La Réunion  \n",
       "4702172         330000.0          4.0          4.0            La Réunion  \n",
       "4702173         899000.0          4.0          4.0            La Réunion  \n",
       "4702174         400000.0          4.0          4.0            La Réunion  \n",
       "\n",
       "[151187 rows x 19 columns]"
      ]
     },
     "execution_count": 11,
     "metadata": {},
     "output_type": "execute_result"
    }
   ],
   "source": [
    "clean_df"
   ]
  },
  {
   "cell_type": "code",
   "execution_count": 12,
   "metadata": {},
   "outputs": [
    {
     "data": {
      "text/plain": [
       "index                         object\n",
       "No voie                       object\n",
       "Type de voie                  object\n",
       "Voie                          object\n",
       "Code postal_x                float64\n",
       "Commune_x                     object\n",
       "Code departement_x            object\n",
       "Code commune_x               float64\n",
       "Surface Carrez du 1er lot    float64\n",
       "Type local                    object\n",
       "Nombre pieces principales    float64\n",
       "id_bien                      float64\n",
       "id_codedep_codecommune        object\n",
       "id_vente                     float64\n",
       "Date mutation                 object\n",
       "Valeur fonciere              float64\n",
       "region_code                  float64\n",
       "code_region                  float64\n",
       "nom_region                    object\n",
       "dtype: object"
      ]
     },
     "execution_count": 12,
     "metadata": {},
     "output_type": "execute_result"
    }
   ],
   "source": [
    "clean_df.dtypes"
   ]
  },
  {
   "cell_type": "markdown",
   "metadata": {},
   "source": [
    "## Entrainement"
   ]
  },
  {
   "cell_type": "markdown",
   "metadata": {},
   "source": [
    "### MLFlow"
   ]
  },
  {
   "cell_type": "code",
   "execution_count": 238,
   "metadata": {},
   "outputs": [
    {
     "data": {
      "text/plain": [
       "<Experiment: artifact_location='mlflow-artifacts:/661998002745822665', creation_time=1710494985679, experiment_id='661998002745822665', last_update_time=1710494985679, lifecycle_stage='active', name='Immo monitoring', tags={}>"
      ]
     },
     "execution_count": 238,
     "metadata": {},
     "output_type": "execute_result"
    }
   ],
   "source": [
    "import mlflow\n",
    "# Set our tracking server uri for logging\n",
    "mlflow.set_tracking_uri(uri=\"http://127.0.0.1:8080\")\n",
    "\n",
    "# Create a new MLflow Experiment\n",
    "mlflow.set_experiment(\"Immo monitoring\")"
   ]
  },
  {
   "cell_type": "markdown",
   "metadata": {},
   "source": [
    "### Linear reg"
   ]
  },
  {
   "cell_type": "code",
   "execution_count": 13,
   "metadata": {},
   "outputs": [],
   "source": [
    "from sklearn.model_selection import train_test_split\n",
    "from sklearn.linear_model import LinearRegression\n",
    "from sklearn.model_selection import learning_curve\n",
    "from sklearn.metrics import mean_squared_error"
   ]
  },
  {
   "cell_type": "code",
   "execution_count": 193,
   "metadata": {},
   "outputs": [],
   "source": [
    "X = clean_df.drop(columns=[\"Code commune_x\",\"index\",\"id_codedep_codecommune\",\"nom_region\",\"Valeur fonciere\",\"Date mutation\",\"Type de voie\",\"Voie\",\"Commune_x\",\"Type local\",\"No voie\",\"Code departement_x\",\"id_bien\",\"id_vente\", \"region_code\"])\n",
    "y = clean_df[\"Valeur fonciere\"]"
   ]
  },
  {
   "cell_type": "code",
   "execution_count": 194,
   "metadata": {},
   "outputs": [
    {
     "data": {
      "text/plain": [
       "Code postal_x                float64\n",
       "Surface Carrez du 1er lot    float64\n",
       "Nombre pieces principales    float64\n",
       "code_region                  float64\n",
       "dtype: object"
      ]
     },
     "execution_count": 194,
     "metadata": {},
     "output_type": "execute_result"
    }
   ],
   "source": [
    "X.dtypes"
   ]
  },
  {
   "cell_type": "code",
   "execution_count": 195,
   "metadata": {},
   "outputs": [],
   "source": [
    "from sklearn.model_selection import train_test_split\n",
    "from sklearn.linear_model import LinearRegression\n",
    "import numpy as np\n",
    "import matplotlib.pyplot as plt\n",
    "from sklearn.model_selection import learning_curve\n",
    "from sklearn.metrics import mean_squared_error"
   ]
  },
  {
   "cell_type": "code",
   "execution_count": 196,
   "metadata": {},
   "outputs": [],
   "source": [
    "X_train,X_test,y_train,y_test = train_test_split(X,y,test_size=0.1)"
   ]
  },
  {
   "cell_type": "code",
   "execution_count": 197,
   "metadata": {},
   "outputs": [
    {
     "data": {
      "text/plain": [
       "Code postal_x                0\n",
       "Surface Carrez du 1er lot    0\n",
       "Nombre pieces principales    0\n",
       "code_region                  0\n",
       "dtype: int64"
      ]
     },
     "execution_count": 197,
     "metadata": {},
     "output_type": "execute_result"
    }
   ],
   "source": [
    "X.isna().sum()"
   ]
  },
  {
   "cell_type": "code",
   "execution_count": 239,
   "metadata": {},
   "outputs": [],
   "source": [
    "baseline = LinearRegression()\n",
    "model = baseline.fit(X_train,y_train)"
   ]
  },
  {
   "cell_type": "code",
   "execution_count": 240,
   "metadata": {},
   "outputs": [
    {
     "data": {
      "image/png": "[encoded data removed]",
      "text/plain": [
       "<Figure size 1000x600 with 1 Axes>"
      ]
     },
     "metadata": {},
     "output_type": "display_data"
    }
   ],
   "source": [
    "train_sizes, train_scores, test_scores = learning_curve(model, X, y, cv=5, scoring='neg_mean_squared_error')\n",
    "train_scores_mean = -np.mean(train_scores, axis=1)\n",
    "test_scores_mean = -np.mean(test_scores, axis=1)\n",
    "plt.figure(figsize=(10, 6))\n",
    "plt.plot(train_sizes, train_scores_mean, label='Train')\n",
    "plt.plot(train_sizes, test_scores_mean, label='Test')\n",
    "plt.xlabel('Taille de l\\'échantillon d\\'apprentissage')\n",
    "plt.ylabel('Erreur quadratique moyenne')\n",
    "plt.title('Courbe d\\'apprentissage')\n",
    "plt.legend()\n",
    "plt.show()"
   ]
  },
  {
   "cell_type": "code",
   "execution_count": 241,
   "metadata": {},
   "outputs": [
    {
     "name": "stdout",
     "output_type": "stream",
     "text": [
      "Erreur quadratique moyenne (MSE) : 675175326428.6842\n"
     ]
    }
   ],
   "source": [
    "from sklearn.metrics import mean_squared_error\n",
    "\n",
    "# Prédiction sur l'ensemble de test\n",
    "predictions = model.predict(X_test)\n",
    "\n",
    "# Calcul de l'erreur quadratique moyenne\n",
    "mse = mean_squared_error(y_test, predictions)\n",
    "\n",
    "# Affichage du score\n",
    "print(f\"Erreur quadratique moyenne (MSE) : {mse}\")"
   ]
  },
  {
   "cell_type": "code",
   "execution_count": 242,
   "metadata": {},
   "outputs": [
    {
     "name": "stdout",
     "output_type": "stream",
     "text": [
      "Coefficient de détermination (R²) : 0.015030911032659189\n"
     ]
    }
   ],
   "source": [
    "from sklearn.metrics import r2_score\n",
    "\n",
    "# Calcul du coefficient de détermination\n",
    "r2 = r2_score(y_test, predictions)\n",
    "\n",
    "# Affichage du score R²\n",
    "print(f\"Coefficient de détermination (R²) : {r2}\")"
   ]
  },
  {
   "cell_type": "code",
   "execution_count": 243,
   "metadata": {},
   "outputs": [
    {
     "data": {
      "text/plain": [
       "821690.5295965654"
      ]
     },
     "execution_count": 243,
     "metadata": {},
     "output_type": "execute_result"
    }
   ],
   "source": [
    "RMSE = np.sqrt(mse)\n",
    "RMSE"
   ]
  },
  {
   "cell_type": "code",
   "execution_count": 244,
   "metadata": {},
   "outputs": [
    {
     "data": {
      "text/plain": [
       "149014.88579953613"
      ]
     },
     "execution_count": 244,
     "metadata": {},
     "output_type": "execute_result"
    }
   ],
   "source": [
    "from sklearn.metrics import mean_absolute_error\n",
    "\n",
    "MAE = mean_absolute_error(y_test, predictions)\n",
    "MAE"
   ]
  },
  {
   "cell_type": "code",
   "execution_count": 245,
   "metadata": {},
   "outputs": [],
   "source": [
    "with mlflow.start_run(run_name=\"Regression lineaire\"):\n",
    "    mlflow.log_metric(\"mse\", mse)\n",
    "    mlflow.log_metric(\"r2\", r2)\n",
    "    mlflow.log_metric(\"RMSE\", RMSE)\n",
    "    mlflow.log_metric(\"MAE\", MAE)"
   ]
  },
  {
   "cell_type": "markdown",
   "metadata": {},
   "source": [
    "### Linear reg scale"
   ]
  },
  {
   "cell_type": "code",
   "execution_count": 205,
   "metadata": {},
   "outputs": [],
   "source": [
    "from sklearn.preprocessing import StandardScaler\n",
    "\n",
    "scaler = StandardScaler()\n",
    "X_train_scaled = scaler.fit_transform(X_train)\n",
    "X_test_scaled = scaler.transform(X_test)\n",
    "\n",
    "model = baseline.fit(X_train_scaled, y_train)"
   ]
  },
  {
   "cell_type": "code",
   "execution_count": 206,
   "metadata": {},
   "outputs": [],
   "source": [
    "model1 = LinearRegression(fit_intercept=False)\n",
    "model1 = model1.fit(X_train_scaled, y_train)"
   ]
  },
  {
   "cell_type": "code",
   "execution_count": 207,
   "metadata": {},
   "outputs": [
    {
     "name": "stdout",
     "output_type": "stream",
     "text": [
      "Erreur quadratique moyenne (MSE) : 3.577624571625413e+18\n"
     ]
    },
    {
     "name": "stderr",
     "output_type": "stream",
     "text": [
      "/home/axxe/.pyenv/versions/simplon/lib/python3.8/site-packages/sklearn/base.py:432: UserWarning: X has feature names, but LinearRegression was fitted without feature names\n",
      "  warnings.warn(\n"
     ]
    }
   ],
   "source": [
    "# Prédiction sur l'ensemble de test\n",
    "predictions = model1.predict(X_test)\n",
    "\n",
    "# Calcul de l'erreur quadratique moyenne\n",
    "mse = mean_squared_error(y_test, predictions)\n",
    "\n",
    "# Affichage du score\n",
    "print(f\"Erreur quadratique moyenne (MSE) : {mse}\")"
   ]
  },
  {
   "cell_type": "code",
   "execution_count": 208,
   "metadata": {},
   "outputs": [
    {
     "name": "stdout",
     "output_type": "stream",
     "text": [
      "Coefficient de détermination (R²) : -4121134.514803409\n"
     ]
    }
   ],
   "source": [
    "# Calcul du coefficient de détermination\n",
    "r2 = r2_score(y_test, predictions)\n",
    "\n",
    "# Affichage du score R²\n",
    "print(f\"Coefficient de détermination (R²) : {r2}\")"
   ]
  },
  {
   "cell_type": "markdown",
   "metadata": {},
   "source": [
    "### Ridge reg"
   ]
  },
  {
   "cell_type": "code",
   "execution_count": 246,
   "metadata": {},
   "outputs": [
    {
     "data": {
      "text/html": [
       "<style>#sk-container-id-12 {color: black;background-color: white;}#sk-container-id-12 pre{padding: 0;}#sk-container-id-12 div.sk-toggleable {background-color: white;}#sk-container-id-12 label.sk-toggleable__label {cursor: pointer;display: block;width: 100%;margin-bottom: 0;padding: 0.3em;box-sizing: border-box;text-align: center;}#sk-container-id-12 label.sk-toggleable__label-arrow:before {content: \"▸\";float: left;margin-right: 0.25em;color: #696969;}#sk-container-id-12 label.sk-toggleable__label-arrow:hover:before {color: black;}#sk-container-id-12 div.sk-estimator:hover label.sk-toggleable__label-arrow:before {color: black;}#sk-container-id-12 div.sk-toggleable__content {max-height: 0;max-width: 0;overflow: hidden;text-align: left;background-color: #f0f8ff;}#sk-container-id-12 div.sk-toggleable__content pre {margin: 0.2em;color: black;border-radius: 0.25em;background-color: #f0f8ff;}#sk-container-id-12 input.sk-toggleable__control:checked~div.sk-toggleable__content {max-height: 200px;max-width: 100%;overflow: auto;}#sk-container-id-12 input.sk-toggleable__control:checked~label.sk-toggleable__label-arrow:before {content: \"▾\";}#sk-container-id-12 div.sk-estimator input.sk-toggleable__control:checked~label.sk-toggleable__label {background-color: #d4ebff;}#sk-container-id-12 div.sk-label input.sk-toggleable__control:checked~label.sk-toggleable__label {background-color: #d4ebff;}#sk-container-id-12 input.sk-hidden--visually {border: 0;clip: rect(1px 1px 1px 1px);clip: rect(1px, 1px, 1px, 1px);height: 1px;margin: -1px;overflow: hidden;padding: 0;position: absolute;width: 1px;}#sk-container-id-12 div.sk-estimator {font-family: monospace;background-color: #f0f8ff;border: 1px dotted black;border-radius: 0.25em;box-sizing: border-box;margin-bottom: 0.5em;}#sk-container-id-12 div.sk-estimator:hover {background-color: #d4ebff;}#sk-container-id-12 div.sk-parallel-item::after {content: \"\";width: 100%;border-bottom: 1px solid gray;flex-grow: 1;}#sk-container-id-12 div.sk-label:hover label.sk-toggleable__label {background-color: #d4ebff;}#sk-container-id-12 div.sk-serial::before {content: \"\";position: absolute;border-left: 1px solid gray;box-sizing: border-box;top: 0;bottom: 0;left: 50%;z-index: 0;}#sk-container-id-12 div.sk-serial {display: flex;flex-direction: column;align-items: center;background-color: white;padding-right: 0.2em;padding-left: 0.2em;position: relative;}#sk-container-id-12 div.sk-item {position: relative;z-index: 1;}#sk-container-id-12 div.sk-parallel {display: flex;align-items: stretch;justify-content: center;background-color: white;position: relative;}#sk-container-id-12 div.sk-item::before, #sk-container-id-12 div.sk-parallel-item::before {content: \"\";position: absolute;border-left: 1px solid gray;box-sizing: border-box;top: 0;bottom: 0;left: 50%;z-index: -1;}#sk-container-id-12 div.sk-parallel-item {display: flex;flex-direction: column;z-index: 1;position: relative;background-color: white;}#sk-container-id-12 div.sk-parallel-item:first-child::after {align-self: flex-end;width: 50%;}#sk-container-id-12 div.sk-parallel-item:last-child::after {align-self: flex-start;width: 50%;}#sk-container-id-12 div.sk-parallel-item:only-child::after {width: 0;}#sk-container-id-12 div.sk-dashed-wrapped {border: 1px dashed gray;margin: 0 0.4em 0.5em 0.4em;box-sizing: border-box;padding-bottom: 0.4em;background-color: white;}#sk-container-id-12 div.sk-label label {font-family: monospace;font-weight: bold;display: inline-block;line-height: 1.2em;}#sk-container-id-12 div.sk-label-container {text-align: center;}#sk-container-id-12 div.sk-container {/* jupyter's `normalize.less` sets `[hidden] { display: none; }` but bootstrap.min.css set `[hidden] { display: none !important; }` so we also need the `!important` here to be able to override the default hidden behavior on the sphinx rendered scikit-learn.org. See: https://github.com/scikit-learn/scikit-learn/issues/21755 */display: inline-block !important;position: relative;}#sk-container-id-12 div.sk-text-repr-fallback {display: none;}</style><div id=\"sk-container-id-12\" class=\"sk-top-container\"><div class=\"sk-text-repr-fallback\"><pre>Ridge()</pre><b>In a Jupyter environment, please rerun this cell to show the HTML representation or trust the notebook. <br />On GitHub, the HTML representation is unable to render, please try loading this page with nbviewer.org.</b></div><div class=\"sk-container\" hidden><div class=\"sk-item\"><div class=\"sk-estimator sk-toggleable\"><input class=\"sk-toggleable__control sk-hidden--visually\" id=\"sk-estimator-id-12\" type=\"checkbox\" checked><label for=\"sk-estimator-id-12\" class=\"sk-toggleable__label sk-toggleable__label-arrow\">Ridge</label><div class=\"sk-toggleable__content\"><pre>Ridge()</pre></div></div></div></div></div>"
      ],
      "text/plain": [
       "Ridge()"
      ]
     },
     "execution_count": 246,
     "metadata": {},
     "output_type": "execute_result"
    }
   ],
   "source": [
    "from sklearn.linear_model import Ridge\n",
    "\n",
    "ridge_model = Ridge(alpha=1.0)  # Vous pouvez ajuster le paramètre alpha\n",
    "ridge_model.fit(X_train_scaled, y_train)"
   ]
  },
  {
   "cell_type": "code",
   "execution_count": 247,
   "metadata": {},
   "outputs": [],
   "source": [
    "from sklearn.feature_selection import SelectKBest, f_regression\n",
    "\n",
    "selector = SelectKBest(score_func=f_regression, k=4)  # Choisissez le nombre optimal de caractéristiques (k)\n",
    "X_train_selected = selector.fit_transform(X_train, y_train)\n",
    "X_test_selected = selector.transform(X_test)"
   ]
  },
  {
   "cell_type": "code",
   "execution_count": 248,
   "metadata": {},
   "outputs": [
    {
     "name": "stdout",
     "output_type": "stream",
     "text": [
      "Erreur quadratique moyenne (MSE) : 685529473424.276\n"
     ]
    }
   ],
   "source": [
    "# Prédiction sur l'ensemble de test\n",
    "# Prédiction sur l'ensemble de test\n",
    "predictions = ridge_model.predict(X_test_scaled)\n",
    "\n",
    "# Calcul de l'erreur quadratique moyenne\n",
    "mse = mean_squared_error(y_test, predictions)\n",
    "\n",
    "# Affichage du score\n",
    "print(f\"Erreur quadratique moyenne (MSE) : {mse}\")"
   ]
  },
  {
   "cell_type": "code",
   "execution_count": 249,
   "metadata": {},
   "outputs": [
    {
     "name": "stdout",
     "output_type": "stream",
     "text": [
      "Coefficient de détermination (R²) : -7.407627075228795e-05\n"
     ]
    }
   ],
   "source": [
    "# Calcul du coefficient de détermination\n",
    "r2 = r2_score(y_test, predictions)\n",
    "\n",
    "# Affichage du score R²\n",
    "print(f\"Coefficient de détermination (R²) : {r2}\")"
   ]
  },
  {
   "cell_type": "code",
   "execution_count": 253,
   "metadata": {},
   "outputs": [],
   "source": [
    "with mlflow.start_run(run_name=\"Ridge Regressor ( standardisé )\"):\n",
    "    mlflow.log_metric(\"mse\", mse)\n",
    "    mlflow.log_metric(\"r2\", r2)\n",
    "    mlflow.log_metric(\"RMSE\", RMSE)"
   ]
  },
  {
   "cell_type": "markdown",
   "metadata": {},
   "source": [
    "### XGB Reg"
   ]
  },
  {
   "cell_type": "code",
   "execution_count": 251,
   "metadata": {},
   "outputs": [],
   "source": [
    "from sklearn.model_selection import train_test_split\n",
    "from sklearn.model_selection import learning_curve\n",
    "from sklearn.metrics import mean_squared_error"
   ]
  },
  {
   "cell_type": "code",
   "execution_count": 252,
   "metadata": {},
   "outputs": [],
   "source": [
    "X_train,X_test,y_train,y_test = train_test_split(X,y,test_size=0.1,random_state=18)"
   ]
  },
  {
   "cell_type": "code",
   "execution_count": 54,
   "metadata": {},
   "outputs": [
    {
     "data": {
      "text/plain": [
       "(151187, 5)"
      ]
     },
     "execution_count": 54,
     "metadata": {},
     "output_type": "execute_result"
    }
   ],
   "source": [
    "X.shape"
   ]
  },
  {
   "cell_type": "code",
   "execution_count": 254,
   "metadata": {},
   "outputs": [],
   "source": [
    "xgb = XGBRegressor()"
   ]
  },
  {
   "cell_type": "code",
   "execution_count": 255,
   "metadata": {},
   "outputs": [],
   "source": [
    "model = xgb.fit(X_train, y_train)"
   ]
  },
  {
   "cell_type": "code",
   "execution_count": 256,
   "metadata": {},
   "outputs": [
    {
     "name": "stdout",
     "output_type": "stream",
     "text": [
      "Erreur quadratique moyenne (MSE) : 131202294332.2865\n"
     ]
    }
   ],
   "source": [
    "# Prédiction sur l'ensemble de test\n",
    "predictions = model.predict(X_test)\n",
    "\n",
    "# Calcul de l'erreur quadratique moyenne\n",
    "mse = mean_squared_error(y_test, predictions)\n",
    "\n",
    "# Affichage du score\n",
    "print(f\"Erreur quadratique moyenne (MSE) : {mse}\")"
   ]
  },
  {
   "cell_type": "code",
   "execution_count": 257,
   "metadata": {},
   "outputs": [
    {
     "name": "stdout",
     "output_type": "stream",
     "text": [
      "Coefficient de détermination (R²) : 0.8085975608699214\n"
     ]
    }
   ],
   "source": [
    "# Calcul du coefficient de détermination\n",
    "r2 = r2_score(y_test, predictions)\n",
    "\n",
    "# Affichage du score R²\n",
    "print(f\"Coefficient de détermination (R²) : {r2}\")"
   ]
  },
  {
   "cell_type": "code",
   "execution_count": 258,
   "metadata": {},
   "outputs": [
    {
     "data": {
      "text/plain": [
       "362218.57259434735"
      ]
     },
     "execution_count": 258,
     "metadata": {},
     "output_type": "execute_result"
    }
   ],
   "source": [
    "RMSE = np.sqrt(mse)\n",
    "RMSE"
   ]
  },
  {
   "cell_type": "code",
   "execution_count": 259,
   "metadata": {},
   "outputs": [
    {
     "data": {
      "text/plain": [
       "82834.97838144083"
      ]
     },
     "execution_count": 259,
     "metadata": {},
     "output_type": "execute_result"
    }
   ],
   "source": [
    "from sklearn.metrics import mean_absolute_error\n",
    "\n",
    "MAE = mean_absolute_error(y_test, predictions)\n",
    "MAE"
   ]
  },
  {
   "cell_type": "code",
   "execution_count": 280,
   "metadata": {},
   "outputs": [
    {
     "data": {
      "image/png": "[encoded data removed]",
      "text/plain": [
       "<Figure size 800x600 with 1 Axes>"
      ]
     },
     "metadata": {},
     "output_type": "display_data"
    }
   ],
   "source": [
    "from sklearn.model_selection import LearningCurveDisplay, ShuffleSplit\n",
    "\n",
    "fig, ax = plt.subplots(figsize=(8, 6))\n",
    "\n",
    "common_params = {\n",
    "    \"X\": X,\n",
    "    \"y\": y,\n",
    "    \"train_sizes\": np.linspace(0.1, 1.0, 5),\n",
    "    \"cv\": ShuffleSplit(n_splits=50, test_size=0.1, random_state=18),\n",
    "    \"score_type\": \"both\",\n",
    "    \"n_jobs\": 5,\n",
    "    \"line_kw\": {\"marker\": \"o\"},\n",
    "    \"std_display_style\": \"fill_between\",\n",
    "    \"score_name\": \"Accuracy\",\n",
    "}\n",
    "\n",
    "LearningCurveDisplay.from_estimator(model, **common_params, ax=ax)\n",
    "handles, label = ax.get_legend_handles_labels()\n",
    "ax.legend(handles[:2], [\"Training Score\", \"Test Score\"])\n",
    "ax.set_title(f\"Learning Curve for {model.__class__.__name__}\")\n",
    "\n",
    "plt.show()\n"
   ]
  },
  {
   "cell_type": "code",
   "execution_count": 169,
   "metadata": {},
   "outputs": [
    {
     "data": {
      "image/png": "[encoded data removed]",
      "text/plain": [
       "<Figure size 800x600 with 1 Axes>"
      ]
     },
     "metadata": {},
     "output_type": "display_data"
    }
   ],
   "source": [
    "import matplotlib.pyplot as plt\n",
    "from sklearn.model_selection import ShuffleSplit\n",
    "from sklearn.model_selection import learning_curve\n",
    "import numpy as np\n",
    "\n",
    "common_params = {\n",
    "    \"X\": X,\n",
    "    \"y\": y,\n",
    "    \"train_sizes\": np.linspace(0.1, 1.0, 5),\n",
    "    \"cv\": ShuffleSplit(n_splits=50, test_size=0.1, random_state=18),\n",
    "    \"n_jobs\": 4,\n",
    "}\n",
    "\n",
    "# Générer les données de la courbe d'apprentissage\n",
    "train_sizes, train_scores, test_scores = learning_curve(model, **common_params)\n",
    "\n",
    "# Calculer la moyenne et l'écart-type pour les scores d'entraînement et de test\n",
    "train_scores_mean = np.mean(train_scores, axis=1)\n",
    "train_scores_std = np.std(train_scores, axis=1)\n",
    "test_scores_mean = np.mean(test_scores, axis=1)\n",
    "test_scores_std = np.std(test_scores, axis=1)\n",
    "\n",
    "# Tracer la courbe d'apprentissage\n",
    "plt.figure(figsize=(8, 6))\n",
    "plt.plot(train_sizes, train_scores_mean, 'o-', color=\"r\", label=\"Training score\")\n",
    "plt.plot(train_sizes, test_scores_mean, 'o-', color=\"g\", label=\"Test score\")\n",
    "\n",
    "# Remplir la zone entre les écarts-types\n",
    "plt.fill_between(train_sizes, train_scores_mean - train_scores_std,\n",
    "                 train_scores_mean + train_scores_std, alpha=0.1, color=\"r\")\n",
    "plt.fill_between(train_sizes, test_scores_mean - test_scores_std,\n",
    "                 test_scores_mean + test_scores_std, alpha=0.1, color=\"g\")\n",
    "\n",
    "# Ajouter les étiquettes de pourcentage aux scores de test\n",
    "for i in range(len(test_scores_mean)):\n",
    "    plt.text(train_sizes[i], test_scores_mean[i], f\"{test_scores_mean[i]*100:.2f}%\", ha='center', va='bottom')\n",
    "\n",
    "# Ajouter un titre et des étiquettes\n",
    "plt.title(f\"Courbe d'apprentissage pour {model.__class__.__name__}\")\n",
    "plt.xlabel(\"Exemples d'entraînement\")\n",
    "plt.ylabel(\"Score\")\n",
    "plt.legend(loc=\"best\")\n",
    "\n",
    "# Afficher le graphique\n",
    "plt.show()\n"
   ]
  },
  {
   "cell_type": "code",
   "execution_count": 260,
   "metadata": {},
   "outputs": [],
   "source": [
    "with mlflow.start_run(run_name=\"XGBRegressor\"):\n",
    "    mlflow.log_metric(\"mse\", mse)\n",
    "    mlflow.log_metric(\"r2\", r2)\n",
    "    mlflow.log_metric(\"RMSE\", RMSE)\n",
    "    mlflow.log_metric(\"MAE\", MAE)\n"
   ]
  },
  {
   "cell_type": "markdown",
   "metadata": {},
   "source": [
    "### XGBR GridSearch"
   ]
  },
  {
   "cell_type": "code",
   "execution_count": 270,
   "metadata": {},
   "outputs": [
    {
     "name": "stdout",
     "output_type": "stream",
     "text": [
      "Meilleurs hyperparamètres : {'learning_rate': 0.1, 'max_depth': 5, 'n_estimators': 300}\n"
     ]
    }
   ],
   "source": [
    "from sklearn.model_selection import GridSearchCV\n",
    "\n",
    "xgb_reg = XGBRegressor()\n",
    "\n",
    "# Définissez la grille des hyperparamètres à explorer\n",
    "param_grid = {\n",
    "    'n_estimators': [100, 200, 300],\n",
    "    'learning_rate': [0.1, 0.01, 0.001],\n",
    "    'max_depth': [3, 4, 5]\n",
    "}\n",
    "\n",
    "# Effectuez la recherche de grille\n",
    "grid_search = GridSearchCV(estimator=xgb_reg, param_grid=param_grid, scoring='neg_mean_absolute_error', cv=5, n_jobs=-1)\n",
    "grid_search.fit(X_train, y_train)\n",
    "\n",
    "# Obtenez les meilleurs hyperparamètres\n",
    "best_params = grid_search.best_params_\n",
    "print(\"Meilleurs hyperparamètres :\", best_params)\n"
   ]
  },
  {
   "cell_type": "code",
   "execution_count": 73,
   "metadata": {},
   "outputs": [
    {
     "data": {
      "text/html": [
       "<div>\n",
       "<style scoped>\n",
       "    .dataframe tbody tr th:only-of-type {\n",
       "        vertical-align: middle;\n",
       "    }\n",
       "\n",
       "    .dataframe tbody tr th {\n",
       "        vertical-align: top;\n",
       "    }\n",
       "\n",
       "    .dataframe thead th {\n",
       "        text-align: right;\n",
       "    }\n",
       "</style>\n",
       "<table border=\"1\" class=\"dataframe\">\n",
       "  <thead>\n",
       "    <tr style=\"text-align: right;\">\n",
       "      <th></th>\n",
       "      <th>Code postal_x</th>\n",
       "      <th>Surface Carrez du 1er lot</th>\n",
       "      <th>Nombre pieces principales</th>\n",
       "      <th>code_region</th>\n",
       "    </tr>\n",
       "  </thead>\n",
       "  <tbody>\n",
       "    <tr>\n",
       "      <th>0</th>\n",
       "      <td>1000.0</td>\n",
       "      <td>31.68</td>\n",
       "      <td>1.0</td>\n",
       "      <td>84.0</td>\n",
       "    </tr>\n",
       "    <tr>\n",
       "      <th>26</th>\n",
       "      <td>1000.0</td>\n",
       "      <td>78.03</td>\n",
       "      <td>3.0</td>\n",
       "      <td>84.0</td>\n",
       "    </tr>\n",
       "    <tr>\n",
       "      <th>52</th>\n",
       "      <td>1000.0</td>\n",
       "      <td>74.07</td>\n",
       "      <td>3.0</td>\n",
       "      <td>84.0</td>\n",
       "    </tr>\n",
       "    <tr>\n",
       "      <th>78</th>\n",
       "      <td>1000.0</td>\n",
       "      <td>91.47</td>\n",
       "      <td>4.0</td>\n",
       "      <td>84.0</td>\n",
       "    </tr>\n",
       "    <tr>\n",
       "      <th>104</th>\n",
       "      <td>1000.0</td>\n",
       "      <td>48.48</td>\n",
       "      <td>2.0</td>\n",
       "      <td>84.0</td>\n",
       "    </tr>\n",
       "    <tr>\n",
       "      <th>...</th>\n",
       "      <td>...</td>\n",
       "      <td>...</td>\n",
       "      <td>...</td>\n",
       "      <td>...</td>\n",
       "    </tr>\n",
       "    <tr>\n",
       "      <th>4702170</th>\n",
       "      <td>75003.0</td>\n",
       "      <td>86.37</td>\n",
       "      <td>4.0</td>\n",
       "      <td>4.0</td>\n",
       "    </tr>\n",
       "    <tr>\n",
       "      <th>4702171</th>\n",
       "      <td>75003.0</td>\n",
       "      <td>60.98</td>\n",
       "      <td>3.0</td>\n",
       "      <td>4.0</td>\n",
       "    </tr>\n",
       "    <tr>\n",
       "      <th>4702172</th>\n",
       "      <td>75008.0</td>\n",
       "      <td>37.07</td>\n",
       "      <td>1.0</td>\n",
       "      <td>4.0</td>\n",
       "    </tr>\n",
       "    <tr>\n",
       "      <th>4702173</th>\n",
       "      <td>75008.0</td>\n",
       "      <td>63.60</td>\n",
       "      <td>2.0</td>\n",
       "      <td>4.0</td>\n",
       "    </tr>\n",
       "    <tr>\n",
       "      <th>4702174</th>\n",
       "      <td>75003.0</td>\n",
       "      <td>32.62</td>\n",
       "      <td>1.0</td>\n",
       "      <td>4.0</td>\n",
       "    </tr>\n",
       "  </tbody>\n",
       "</table>\n",
       "<p>151187 rows × 4 columns</p>\n",
       "</div>"
      ],
      "text/plain": [
       "         Code postal_x  Surface Carrez du 1er lot  Nombre pieces principales  \\\n",
       "0               1000.0                      31.68                        1.0   \n",
       "26              1000.0                      78.03                        3.0   \n",
       "52              1000.0                      74.07                        3.0   \n",
       "78              1000.0                      91.47                        4.0   \n",
       "104             1000.0                      48.48                        2.0   \n",
       "...                ...                        ...                        ...   \n",
       "4702170        75003.0                      86.37                        4.0   \n",
       "4702171        75003.0                      60.98                        3.0   \n",
       "4702172        75008.0                      37.07                        1.0   \n",
       "4702173        75008.0                      63.60                        2.0   \n",
       "4702174        75003.0                      32.62                        1.0   \n",
       "\n",
       "         code_region  \n",
       "0               84.0  \n",
       "26              84.0  \n",
       "52              84.0  \n",
       "78              84.0  \n",
       "104             84.0  \n",
       "...              ...  \n",
       "4702170          4.0  \n",
       "4702171          4.0  \n",
       "4702172          4.0  \n",
       "4702173          4.0  \n",
       "4702174          4.0  \n",
       "\n",
       "[151187 rows x 4 columns]"
      ]
     },
     "execution_count": 73,
     "metadata": {},
     "output_type": "execute_result"
    }
   ],
   "source": [
    "X"
   ]
  },
  {
   "cell_type": "code",
   "execution_count": 271,
   "metadata": {},
   "outputs": [],
   "source": [
    "best_xgb_reg = XGBRegressor(**best_params)"
   ]
  },
  {
   "cell_type": "code",
   "execution_count": 272,
   "metadata": {},
   "outputs": [
    {
     "data": {
      "text/html": [
       "<style>#sk-container-id-14 {color: black;background-color: white;}#sk-container-id-14 pre{padding: 0;}#sk-container-id-14 div.sk-toggleable {background-color: white;}#sk-container-id-14 label.sk-toggleable__label {cursor: pointer;display: block;width: 100%;margin-bottom: 0;padding: 0.3em;box-sizing: border-box;text-align: center;}#sk-container-id-14 label.sk-toggleable__label-arrow:before {content: \"▸\";float: left;margin-right: 0.25em;color: #696969;}#sk-container-id-14 label.sk-toggleable__label-arrow:hover:before {color: black;}#sk-container-id-14 div.sk-estimator:hover label.sk-toggleable__label-arrow:before {color: black;}#sk-container-id-14 div.sk-toggleable__content {max-height: 0;max-width: 0;overflow: hidden;text-align: left;background-color: #f0f8ff;}#sk-container-id-14 div.sk-toggleable__content pre {margin: 0.2em;color: black;border-radius: 0.25em;background-color: #f0f8ff;}#sk-container-id-14 input.sk-toggleable__control:checked~div.sk-toggleable__content {max-height: 200px;max-width: 100%;overflow: auto;}#sk-container-id-14 input.sk-toggleable__control:checked~label.sk-toggleable__label-arrow:before {content: \"▾\";}#sk-container-id-14 div.sk-estimator input.sk-toggleable__control:checked~label.sk-toggleable__label {background-color: #d4ebff;}#sk-container-id-14 div.sk-label input.sk-toggleable__control:checked~label.sk-toggleable__label {background-color: #d4ebff;}#sk-container-id-14 input.sk-hidden--visually {border: 0;clip: rect(1px 1px 1px 1px);clip: rect(1px, 1px, 1px, 1px);height: 1px;margin: -1px;overflow: hidden;padding: 0;position: absolute;width: 1px;}#sk-container-id-14 div.sk-estimator {font-family: monospace;background-color: #f0f8ff;border: 1px dotted black;border-radius: 0.25em;box-sizing: border-box;margin-bottom: 0.5em;}#sk-container-id-14 div.sk-estimator:hover {background-color: #d4ebff;}#sk-container-id-14 div.sk-parallel-item::after {content: \"\";width: 100%;border-bottom: 1px solid gray;flex-grow: 1;}#sk-container-id-14 div.sk-label:hover label.sk-toggleable__label {background-color: #d4ebff;}#sk-container-id-14 div.sk-serial::before {content: \"\";position: absolute;border-left: 1px solid gray;box-sizing: border-box;top: 0;bottom: 0;left: 50%;z-index: 0;}#sk-container-id-14 div.sk-serial {display: flex;flex-direction: column;align-items: center;background-color: white;padding-right: 0.2em;padding-left: 0.2em;position: relative;}#sk-container-id-14 div.sk-item {position: relative;z-index: 1;}#sk-container-id-14 div.sk-parallel {display: flex;align-items: stretch;justify-content: center;background-color: white;position: relative;}#sk-container-id-14 div.sk-item::before, #sk-container-id-14 div.sk-parallel-item::before {content: \"\";position: absolute;border-left: 1px solid gray;box-sizing: border-box;top: 0;bottom: 0;left: 50%;z-index: -1;}#sk-container-id-14 div.sk-parallel-item {display: flex;flex-direction: column;z-index: 1;position: relative;background-color: white;}#sk-container-id-14 div.sk-parallel-item:first-child::after {align-self: flex-end;width: 50%;}#sk-container-id-14 div.sk-parallel-item:last-child::after {align-self: flex-start;width: 50%;}#sk-container-id-14 div.sk-parallel-item:only-child::after {width: 0;}#sk-container-id-14 div.sk-dashed-wrapped {border: 1px dashed gray;margin: 0 0.4em 0.5em 0.4em;box-sizing: border-box;padding-bottom: 0.4em;background-color: white;}#sk-container-id-14 div.sk-label label {font-family: monospace;font-weight: bold;display: inline-block;line-height: 1.2em;}#sk-container-id-14 div.sk-label-container {text-align: center;}#sk-container-id-14 div.sk-container {/* jupyter's `normalize.less` sets `[hidden] { display: none; }` but bootstrap.min.css set `[hidden] { display: none !important; }` so we also need the `!important` here to be able to override the default hidden behavior on the sphinx rendered scikit-learn.org. See: https://github.com/scikit-learn/scikit-learn/issues/21755 */display: inline-block !important;position: relative;}#sk-container-id-14 div.sk-text-repr-fallback {display: none;}</style><div id=\"sk-container-id-14\" class=\"sk-top-container\"><div class=\"sk-text-repr-fallback\"><pre>XGBRegressor(base_score=0.5, booster=&#x27;gbtree&#x27;, callbacks=None,\n",
       "             colsample_bylevel=1, colsample_bynode=1, colsample_bytree=1,\n",
       "             early_stopping_rounds=None, enable_categorical=False,\n",
       "             eval_metric=None, gamma=0, gpu_id=-1, grow_policy=&#x27;depthwise&#x27;,\n",
       "             importance_type=None, interaction_constraints=&#x27;&#x27;,\n",
       "             learning_rate=0.1, max_bin=256, max_cat_to_onehot=4,\n",
       "             max_delta_step=0, max_depth=5, max_leaves=0, min_child_weight=1,\n",
       "             missing=nan, monotone_constraints=&#x27;()&#x27;, n_estimators=300, n_jobs=0,\n",
       "             num_parallel_tree=1, predictor=&#x27;auto&#x27;, random_state=0, reg_alpha=0,\n",
       "             reg_lambda=1, ...)</pre><b>In a Jupyter environment, please rerun this cell to show the HTML representation or trust the notebook. <br />On GitHub, the HTML representation is unable to render, please try loading this page with nbviewer.org.</b></div><div class=\"sk-container\" hidden><div class=\"sk-item\"><div class=\"sk-estimator sk-toggleable\"><input class=\"sk-toggleable__control sk-hidden--visually\" id=\"sk-estimator-id-14\" type=\"checkbox\" checked><label for=\"sk-estimator-id-14\" class=\"sk-toggleable__label sk-toggleable__label-arrow\">XGBRegressor</label><div class=\"sk-toggleable__content\"><pre>XGBRegressor(base_score=0.5, booster=&#x27;gbtree&#x27;, callbacks=None,\n",
       "             colsample_bylevel=1, colsample_bynode=1, colsample_bytree=1,\n",
       "             early_stopping_rounds=None, enable_categorical=False,\n",
       "             eval_metric=None, gamma=0, gpu_id=-1, grow_policy=&#x27;depthwise&#x27;,\n",
       "             importance_type=None, interaction_constraints=&#x27;&#x27;,\n",
       "             learning_rate=0.1, max_bin=256, max_cat_to_onehot=4,\n",
       "             max_delta_step=0, max_depth=5, max_leaves=0, min_child_weight=1,\n",
       "             missing=nan, monotone_constraints=&#x27;()&#x27;, n_estimators=300, n_jobs=0,\n",
       "             num_parallel_tree=1, predictor=&#x27;auto&#x27;, random_state=0, reg_alpha=0,\n",
       "             reg_lambda=1, ...)</pre></div></div></div></div></div>"
      ],
      "text/plain": [
       "XGBRegressor(base_score=0.5, booster='gbtree', callbacks=None,\n",
       "             colsample_bylevel=1, colsample_bynode=1, colsample_bytree=1,\n",
       "             early_stopping_rounds=None, enable_categorical=False,\n",
       "             eval_metric=None, gamma=0, gpu_id=-1, grow_policy='depthwise',\n",
       "             importance_type=None, interaction_constraints='',\n",
       "             learning_rate=0.1, max_bin=256, max_cat_to_onehot=4,\n",
       "             max_delta_step=0, max_depth=5, max_leaves=0, min_child_weight=1,\n",
       "             missing=nan, monotone_constraints='()', n_estimators=300, n_jobs=0,\n",
       "             num_parallel_tree=1, predictor='auto', random_state=0, reg_alpha=0,\n",
       "             reg_lambda=1, ...)"
      ]
     },
     "execution_count": 272,
     "metadata": {},
     "output_type": "execute_result"
    }
   ],
   "source": [
    "best_xgb_reg.fit(X_train, y_train)"
   ]
  },
  {
   "cell_type": "code",
   "execution_count": 273,
   "metadata": {},
   "outputs": [
    {
     "name": "stdout",
     "output_type": "stream",
     "text": [
      "Erreur quadratique moyenne (MSE) : 130091363258.31526\n"
     ]
    }
   ],
   "source": [
    "# Prédiction sur l'ensemble de test\n",
    "predictions = best_xgb_reg.predict(X_test)\n",
    "\n",
    "# Calcul de l'erreur quadratique moyenne\n",
    "mse = mean_squared_error(y_test, predictions)\n",
    "\n",
    "# Affichage du score\n",
    "print(f\"Erreur quadratique moyenne (MSE) : {mse}\")"
   ]
  },
  {
   "cell_type": "code",
   "execution_count": 275,
   "metadata": {},
   "outputs": [
    {
     "name": "stdout",
     "output_type": "stream",
     "text": [
      "Coefficient de détermination (R²) : 0.8102182254958386\n"
     ]
    }
   ],
   "source": [
    "# Calcul du coefficient de détermination\n",
    "r2 = r2_score(y_test, predictions)\n",
    "\n",
    "# Affichage du score R²\n",
    "print(f\"Coefficient de détermination (R²) : {r2}\")"
   ]
  },
  {
   "cell_type": "code",
   "execution_count": 276,
   "metadata": {},
   "outputs": [
    {
     "data": {
      "text/plain": [
       "360681.8033368405"
      ]
     },
     "execution_count": 276,
     "metadata": {},
     "output_type": "execute_result"
    }
   ],
   "source": [
    "RMSE = np.sqrt(mse)\n",
    "RMSE"
   ]
  },
  {
   "cell_type": "code",
   "execution_count": 277,
   "metadata": {},
   "outputs": [
    {
     "data": {
      "text/plain": [
       "84978.45569889813"
      ]
     },
     "execution_count": 277,
     "metadata": {},
     "output_type": "execute_result"
    }
   ],
   "source": [
    "MAE = neg_mean_absolute_error(y_test, predictions)\n",
    "MAE"
   ]
  },
  {
   "cell_type": "code",
   "execution_count": 278,
   "metadata": {},
   "outputs": [
    {
     "data": {
      "image/png": "[encoded data removed]",
      "text/plain": [
       "<Figure size 800x600 with 1 Axes>"
      ]
     },
     "metadata": {},
     "output_type": "display_data"
    }
   ],
   "source": [
    "common_params = {\n",
    "    \"X\": X,\n",
    "    \"y\": y,\n",
    "    \"train_sizes\": np.linspace(0.1, 1.0, 5),\n",
    "    \"cv\": ShuffleSplit(n_splits=50, test_size=0.2, random_state=18),\n",
    "    \"n_jobs\": 4,\n",
    "}\n",
    "\n",
    "# Générer les données de la courbe d'apprentissage\n",
    "train_sizes, train_scores, test_scores = learning_curve(best_xgb_reg, **common_params)\n",
    "\n",
    "# Calculer la moyenne et l'écart-type pour les scores d'entraînement et de test\n",
    "train_scores_mean = np.mean(train_scores, axis=1)\n",
    "train_scores_std = np.std(train_scores, axis=1)\n",
    "test_scores_mean = np.mean(test_scores, axis=1)\n",
    "test_scores_std = np.std(test_scores, axis=1)\n",
    "\n",
    "# Tracer la courbe d'apprentissage\n",
    "plt.figure(figsize=(8, 6))\n",
    "plt.plot(train_sizes, train_scores_mean, 'o-', color=\"r\", label=\"Training score\")\n",
    "plt.plot(train_sizes, test_scores_mean, 'o-', color=\"g\", label=\"Test score\")\n",
    "\n",
    "# Remplir la zone entre les écarts-types\n",
    "plt.fill_between(train_sizes, train_scores_mean - train_scores_std,\n",
    "                 train_scores_mean + train_scores_std, alpha=0.1, color=\"r\")\n",
    "plt.fill_between(train_sizes, test_scores_mean - test_scores_std,\n",
    "                 test_scores_mean + test_scores_std, alpha=0.1, color=\"g\")\n",
    "\n",
    "# Ajouter les étiquettes de pourcentage aux scores de test\n",
    "for i in range(len(test_scores_mean)):\n",
    "    plt.text(train_sizes[i], test_scores_mean[i], f\"{test_scores_mean[i]*100:.2f}%\", ha='center', va='bottom')\n",
    "\n",
    "# Ajouter un titre et des étiquettes\n",
    "plt.title(f\"Courbe d'apprentissage pour {best_xgb_reg.__class__.__name__}\")\n",
    "plt.xlabel(\"Exemples d'entraînement\")\n",
    "plt.ylabel(\"Score\")\n",
    "plt.legend(loc=\"best\")\n",
    "\n",
    "# Afficher le graphique\n",
    "plt.show()"
   ]
  },
  {
   "cell_type": "code",
   "execution_count": 268,
   "metadata": {},
   "outputs": [],
   "source": [
    "with mlflow.start_run(run_name=\"XGBRegressor Gridsearch\"):\n",
    "    mlflow.log_metric(\"mse\", mse)\n",
    "    mlflow.log_metric(\"r2\", r2)\n",
    "    mlflow.log_metric(\"RMSE\", RMSE)\n",
    "    mlflow.log_metric(\"MAE\", MAE)\n",
    "    mlflow.end_run()"
   ]
  },
  {
   "cell_type": "markdown",
   "metadata": {},
   "source": [
    "## XGB RandomSearch"
   ]
  },
  {
   "cell_type": "code",
   "execution_count": 231,
   "metadata": {},
   "outputs": [
    {
     "name": "stdout",
     "output_type": "stream",
     "text": [
      "Meilleurs hyperparamètres : {'learning_rate': 0.0888601470921552, 'max_depth': 5, 'n_estimators': 166}\n"
     ]
    }
   ],
   "source": [
    "from sklearn.model_selection import RandomizedSearchCV\n",
    "from scipy.stats import randint, uniform\n",
    "\n",
    "param_dist = {\n",
    "    'n_estimators': randint(100, 300),\n",
    "    'learning_rate': uniform(0.001, 0.1),\n",
    "    'max_depth': randint(3, 6)\n",
    "}\n",
    "\n",
    "random_search = RandomizedSearchCV(\n",
    "    estimator=xgb_reg,\n",
    "    param_distributions=param_dist,\n",
    "    n_iter=10,\n",
    "    scoring='r2',\n",
    "    cv=5,\n",
    "    n_jobs=-1,\n",
    "    random_state=18\n",
    ")\n",
    "random_search.fit(X_train, y_train)\n",
    "\n",
    "best_params = random_search.best_params_\n",
    "print(\"Meilleurs hyperparamètres :\", best_params)\n"
   ]
  },
  {
   "cell_type": "code",
   "execution_count": 232,
   "metadata": {},
   "outputs": [
    {
     "data": {
      "text/html": [
       "<style>#sk-container-id-11 {color: black;background-color: white;}#sk-container-id-11 pre{padding: 0;}#sk-container-id-11 div.sk-toggleable {background-color: white;}#sk-container-id-11 label.sk-toggleable__label {cursor: pointer;display: block;width: 100%;margin-bottom: 0;padding: 0.3em;box-sizing: border-box;text-align: center;}#sk-container-id-11 label.sk-toggleable__label-arrow:before {content: \"▸\";float: left;margin-right: 0.25em;color: #696969;}#sk-container-id-11 label.sk-toggleable__label-arrow:hover:before {color: black;}#sk-container-id-11 div.sk-estimator:hover label.sk-toggleable__label-arrow:before {color: black;}#sk-container-id-11 div.sk-toggleable__content {max-height: 0;max-width: 0;overflow: hidden;text-align: left;background-color: #f0f8ff;}#sk-container-id-11 div.sk-toggleable__content pre {margin: 0.2em;color: black;border-radius: 0.25em;background-color: #f0f8ff;}#sk-container-id-11 input.sk-toggleable__control:checked~div.sk-toggleable__content {max-height: 200px;max-width: 100%;overflow: auto;}#sk-container-id-11 input.sk-toggleable__control:checked~label.sk-toggleable__label-arrow:before {content: \"▾\";}#sk-container-id-11 div.sk-estimator input.sk-toggleable__control:checked~label.sk-toggleable__label {background-color: #d4ebff;}#sk-container-id-11 div.sk-label input.sk-toggleable__control:checked~label.sk-toggleable__label {background-color: #d4ebff;}#sk-container-id-11 input.sk-hidden--visually {border: 0;clip: rect(1px 1px 1px 1px);clip: rect(1px, 1px, 1px, 1px);height: 1px;margin: -1px;overflow: hidden;padding: 0;position: absolute;width: 1px;}#sk-container-id-11 div.sk-estimator {font-family: monospace;background-color: #f0f8ff;border: 1px dotted black;border-radius: 0.25em;box-sizing: border-box;margin-bottom: 0.5em;}#sk-container-id-11 div.sk-estimator:hover {background-color: #d4ebff;}#sk-container-id-11 div.sk-parallel-item::after {content: \"\";width: 100%;border-bottom: 1px solid gray;flex-grow: 1;}#sk-container-id-11 div.sk-label:hover label.sk-toggleable__label {background-color: #d4ebff;}#sk-container-id-11 div.sk-serial::before {content: \"\";position: absolute;border-left: 1px solid gray;box-sizing: border-box;top: 0;bottom: 0;left: 50%;z-index: 0;}#sk-container-id-11 div.sk-serial {display: flex;flex-direction: column;align-items: center;background-color: white;padding-right: 0.2em;padding-left: 0.2em;position: relative;}#sk-container-id-11 div.sk-item {position: relative;z-index: 1;}#sk-container-id-11 div.sk-parallel {display: flex;align-items: stretch;justify-content: center;background-color: white;position: relative;}#sk-container-id-11 div.sk-item::before, #sk-container-id-11 div.sk-parallel-item::before {content: \"\";position: absolute;border-left: 1px solid gray;box-sizing: border-box;top: 0;bottom: 0;left: 50%;z-index: -1;}#sk-container-id-11 div.sk-parallel-item {display: flex;flex-direction: column;z-index: 1;position: relative;background-color: white;}#sk-container-id-11 div.sk-parallel-item:first-child::after {align-self: flex-end;width: 50%;}#sk-container-id-11 div.sk-parallel-item:last-child::after {align-self: flex-start;width: 50%;}#sk-container-id-11 div.sk-parallel-item:only-child::after {width: 0;}#sk-container-id-11 div.sk-dashed-wrapped {border: 1px dashed gray;margin: 0 0.4em 0.5em 0.4em;box-sizing: border-box;padding-bottom: 0.4em;background-color: white;}#sk-container-id-11 div.sk-label label {font-family: monospace;font-weight: bold;display: inline-block;line-height: 1.2em;}#sk-container-id-11 div.sk-label-container {text-align: center;}#sk-container-id-11 div.sk-container {/* jupyter's `normalize.less` sets `[hidden] { display: none; }` but bootstrap.min.css set `[hidden] { display: none !important; }` so we also need the `!important` here to be able to override the default hidden behavior on the sphinx rendered scikit-learn.org. See: https://github.com/scikit-learn/scikit-learn/issues/21755 */display: inline-block !important;position: relative;}#sk-container-id-11 div.sk-text-repr-fallback {display: none;}</style><div id=\"sk-container-id-11\" class=\"sk-top-container\"><div class=\"sk-text-repr-fallback\"><pre>XGBRegressor(base_score=0.5, booster=&#x27;gbtree&#x27;, callbacks=None,\n",
       "             colsample_bylevel=1, colsample_bynode=1, colsample_bytree=1,\n",
       "             early_stopping_rounds=None, enable_categorical=False,\n",
       "             eval_metric=None, gamma=0, gpu_id=-1, grow_policy=&#x27;depthwise&#x27;,\n",
       "             importance_type=None, interaction_constraints=&#x27;&#x27;,\n",
       "             learning_rate=0.0888601470921552, max_bin=256, max_cat_to_onehot=4,\n",
       "             max_delta_step=0, max_depth=5, max_leaves=0, min_child_weight=1,\n",
       "             missing=nan, monotone_constraints=&#x27;()&#x27;, n_estimators=166, n_jobs=0,\n",
       "             num_parallel_tree=1, predictor=&#x27;auto&#x27;, random_state=0, reg_alpha=0,\n",
       "             reg_lambda=1, ...)</pre><b>In a Jupyter environment, please rerun this cell to show the HTML representation or trust the notebook. <br />On GitHub, the HTML representation is unable to render, please try loading this page with nbviewer.org.</b></div><div class=\"sk-container\" hidden><div class=\"sk-item\"><div class=\"sk-estimator sk-toggleable\"><input class=\"sk-toggleable__control sk-hidden--visually\" id=\"sk-estimator-id-11\" type=\"checkbox\" checked><label for=\"sk-estimator-id-11\" class=\"sk-toggleable__label sk-toggleable__label-arrow\">XGBRegressor</label><div class=\"sk-toggleable__content\"><pre>XGBRegressor(base_score=0.5, booster=&#x27;gbtree&#x27;, callbacks=None,\n",
       "             colsample_bylevel=1, colsample_bynode=1, colsample_bytree=1,\n",
       "             early_stopping_rounds=None, enable_categorical=False,\n",
       "             eval_metric=None, gamma=0, gpu_id=-1, grow_policy=&#x27;depthwise&#x27;,\n",
       "             importance_type=None, interaction_constraints=&#x27;&#x27;,\n",
       "             learning_rate=0.0888601470921552, max_bin=256, max_cat_to_onehot=4,\n",
       "             max_delta_step=0, max_depth=5, max_leaves=0, min_child_weight=1,\n",
       "             missing=nan, monotone_constraints=&#x27;()&#x27;, n_estimators=166, n_jobs=0,\n",
       "             num_parallel_tree=1, predictor=&#x27;auto&#x27;, random_state=0, reg_alpha=0,\n",
       "             reg_lambda=1, ...)</pre></div></div></div></div></div>"
      ],
      "text/plain": [
       "XGBRegressor(base_score=0.5, booster='gbtree', callbacks=None,\n",
       "             colsample_bylevel=1, colsample_bynode=1, colsample_bytree=1,\n",
       "             early_stopping_rounds=None, enable_categorical=False,\n",
       "             eval_metric=None, gamma=0, gpu_id=-1, grow_policy='depthwise',\n",
       "             importance_type=None, interaction_constraints='',\n",
       "             learning_rate=0.0888601470921552, max_bin=256, max_cat_to_onehot=4,\n",
       "             max_delta_step=0, max_depth=5, max_leaves=0, min_child_weight=1,\n",
       "             missing=nan, monotone_constraints='()', n_estimators=166, n_jobs=0,\n",
       "             num_parallel_tree=1, predictor='auto', random_state=0, reg_alpha=0,\n",
       "             reg_lambda=1, ...)"
      ]
     },
     "execution_count": 232,
     "metadata": {},
     "output_type": "execute_result"
    }
   ],
   "source": [
    "best_xgb_reg = XGBRegressor(**best_params)\n",
    "best_xgb_reg.fit(X_train, y_train)"
   ]
  },
  {
   "cell_type": "code",
   "execution_count": 233,
   "metadata": {},
   "outputs": [
    {
     "name": "stdout",
     "output_type": "stream",
     "text": [
      "Erreur quadratique moyenne (MSE) : 141524900056.43286\n"
     ]
    }
   ],
   "source": [
    "# Prédiction sur l'ensemble de test\n",
    "predictions = best_xgb_reg.predict(X_test)\n",
    "\n",
    "# Calcul de l'erreur quadratique moyenne\n",
    "mse = mean_squared_error(y_test, predictions)\n",
    "\n",
    "# Affichage du score\n",
    "print(f\"Erreur quadratique moyenne (MSE) : {mse}\")"
   ]
  },
  {
   "cell_type": "code",
   "execution_count": 234,
   "metadata": {},
   "outputs": [
    {
     "name": "stdout",
     "output_type": "stream",
     "text": [
      "Coefficient de détermination (R²) : 0.7935385870628338\n"
     ]
    }
   ],
   "source": [
    "# Calcul du coefficient de détermination\n",
    "r2 = r2_score(y_test, predictions)\n",
    "\n",
    "# Affichage du score R²\n",
    "print(f\"Coefficient de détermination (R²) : {r2}\")"
   ]
  },
  {
   "cell_type": "code",
   "execution_count": 235,
   "metadata": {},
   "outputs": [
    {
     "data": {
      "text/plain": [
       "376197.9532858105"
      ]
     },
     "execution_count": 235,
     "metadata": {},
     "output_type": "execute_result"
    }
   ],
   "source": [
    "RMSE = np.sqrt(mse)\n",
    "RMSE"
   ]
  },
  {
   "cell_type": "code",
   "execution_count": 236,
   "metadata": {},
   "outputs": [
    {
     "data": {
      "text/plain": [
       "89225.70500696558"
      ]
     },
     "execution_count": 236,
     "metadata": {},
     "output_type": "execute_result"
    }
   ],
   "source": [
    "mean_absolute_error(y_test, predictions)"
   ]
  },
  {
   "cell_type": "code",
   "execution_count": 145,
   "metadata": {},
   "outputs": [
    {
     "data": {
      "text/plain": [
       "['xgb.pkl']"
      ]
     },
     "execution_count": 145,
     "metadata": {},
     "output_type": "execute_result"
    }
   ],
   "source": [
    "import joblib\n",
    "\n",
    "joblib.dump(best_xgb_reg, 'xgb.pkl')\n"
   ]
  }
 ],
 "metadata": {
  "kernelspec": {
   "display_name": "Python 3",
   "language": "python",
   "name": "python3"
  },
  "language_info": {
   "codemirror_mode": {
    "name": "ipython",
    "version": 3
   },
   "file_extension": ".py",
   "mimetype": "text/x-python",
   "name": "python",
   "nbconvert_exporter": "python",
   "pygments_lexer": "ipython3",
   "version": "3.8.12"
  }
 },
 "nbformat": 4,
 "nbformat_minor": 2
}
